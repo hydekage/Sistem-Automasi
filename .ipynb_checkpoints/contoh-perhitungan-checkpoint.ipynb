{
 "cells": [
  {
   "attachments": {},
   "cell_type": "markdown",
   "id": "59aa7e6e-b18a-4706-8f71-823038755252",
   "metadata": {},
   "source": [
    "## Contoh Perhitungan Transfer Function/Fungsi Alih MK SISTEM KENDALI ##\n",
    "\n",
    "### Pemodelan Pada Rangkaian Listrik ###\n",
    "\n",
    "Pelajari file tersebut: <B>[my link](file:///RLCTF.pdf)</B>\n",
    "\n",
    "<img src=\"img/circuit.jpg\">\n",
    "Pada gambar diatas, bagaimana cara kita memodelkan teganan pada beban $R$ ($V_R$)?\n",
    "<BR>Berdasarkan hukum Ohm: $V=iR$</BR>\n",
    "<BR>Berdasarkan hukum Faraday: $V_L=L\\frac{d_i}{dt}$\n",
    "<BR>Berdasarkan hukum Kirchoff:$V_s=V_r+V_L$ </BR> \n",
    "\n",
    "Diketahui:\n",
    "$${A} = \\begin{bmatrix} {0} & \\frac{1}{C}\\\\ -\\frac{1}{C} & -\\frac{R}{L}\\end{bmatrix}$$\n",
    "$${B} = \\begin{bmatrix} {0}\\\\{\\frac{1}{L}}\\end{bmatrix}$$\n",
    "$${C} = \\begin{bmatrix} 1 & 0\\\\ 0 & 1\\end{bmatrix}$$\n",
    "$${D} = 0 $$\n",
    "Hitung:\n",
    "$$\\frac{Y(s)}{U(s)} = {C[sI−A]^{−1}}B+D $$\r\n",
    "\n"
   ]
  },
  {
   "cell_type": "code",
   "execution_count": 5,
   "id": "8d66aa7b-e620-4d09-b7a7-9415c91d47d6",
   "metadata": {},
   "outputs": [],
   "source": [
    "import sympy as sp\n",
    "C,L, R = sp.symbols(r'C,L,R')"
   ]
  },
  {
   "cell_type": "code",
   "execution_count": 7,
   "id": "396c5652-6df8-4338-a7ca-de8f58f31e22",
   "metadata": {},
   "outputs": [
    {
     "name": "stdout",
     "output_type": "stream",
     "text": [
      "Persamaan V_r:\n"
     ]
    },
    {
     "data": {
      "text/latex": [
       "$\\displaystyle R i$"
      ],
      "text/plain": [
       "R*i"
      ]
     },
     "metadata": {},
     "output_type": "display_data"
    },
    {
     "name": "stdout",
     "output_type": "stream",
     "text": [
      "Persamaan V_L:\n"
     ]
    },
    {
     "data": {
      "text/latex": [
       "$\\displaystyle L \\frac{d}{d t} i{\\left(t \\right)}$"
      ],
      "text/plain": [
       "L*Derivative(i(t), t)"
      ]
     },
     "metadata": {},
     "output_type": "display_data"
    },
    {
     "name": "stdout",
     "output_type": "stream",
     "text": [
      "Persamaan V_L+V_r-Vs=0:\n"
     ]
    },
    {
     "data": {
      "text/latex": [
       "$\\displaystyle L \\frac{d}{d t} i{\\left(t \\right)} + R i - V_{s}$"
      ],
      "text/plain": [
       "L*Derivative(i(t), t) + R*i - V_s"
      ]
     },
     "metadata": {},
     "output_type": "display_data"
    }
   ],
   "source": [
    "i, vs, t = sp.symbols('i,V_s, t')\n",
    "id = (sp.Function('i')(t).diff(t))\n",
    "vr = i*R\n",
    "print(\"Persamaan V_r:\")\n",
    "display(vr)\n",
    "vl = L*id\n",
    "print(\"Persamaan V_L:\")\n",
    "display(vl)\n",
    "EQ = -vs+vr+vl\n",
    "print(\"Persamaan V_L+V_r-Vs=0:\")\n",
    "display(EQ)"
   ]
  },
  {
   "cell_type": "code",
   "execution_count": null,
   "id": "6be2c39e-5511-4b4b-9fa2-9a74665985f2",
   "metadata": {},
   "outputs": [],
   "source": [
    "A_Row_1 = (0,1/C)\n",
    "A_Row_2 = (-1/C,-R/L)\n",
    "A  = sp.Matrix([A_Row_1,A_Row_2])\n",
    "display('Matrix A:',A)\n",
    "print(\"\\n\")\n",
    "B_Row_1 = (0)\n",
    "B_Row_2 = (1/L)\n",
    "B = sp.Matrix([B_Row_1,B_Row_2])\n",
    "display('Matrix B:',B)\n",
    "C_Row_1 = (1,0)\n",
    "C_Row_2 = (0,1)\n",
    "C = sp.Matrix([C_Row_1,C_Row_2])\n",
    "display('Matrix C:',C)"
   ]
  },
  {
   "cell_type": "markdown",
   "id": "ec84415d-63a9-4a07-9417-1746d0af9b55",
   "metadata": {},
   "source": [
    "Masukkan ke Rumus:\n",
    "\n",
    "$$\\frac{Y(s)}{U(s)} = {C[sI−A]^{−1}}B+D $$"
   ]
  },
  {
   "cell_type": "code",
   "execution_count": 35,
   "id": "2ace4420-8b91-4b50-8c91-0df8e1233a39",
   "metadata": {},
   "outputs": [
    {
     "data": {
      "text/latex": [
       "$\\displaystyle \\left[\\begin{matrix}1 & 0\\\\0 & 1\\end{matrix}\\right]$"
      ],
      "text/plain": [
       "Matrix([\n",
       "[1, 0],\n",
       "[0, 1]])"
      ]
     },
     "metadata": {},
     "output_type": "display_data"
    },
    {
     "data": {
      "text/latex": [
       "$\\displaystyle \\left[\\begin{matrix}\\frac{C^{2} L s + C^{2} R}{C^{2} L s^{2} + C^{2} R s + L} & \\frac{C L}{C^{2} L s^{2} + C^{2} R s + L}\\\\- \\frac{C L}{C^{2} L s^{2} + C^{2} R s + L} & \\frac{C^{2} L s}{C^{2} L s^{2} + C^{2} R s + L}\\end{matrix}\\right]$"
      ],
      "text/plain": [
       "Matrix([\n",
       "[(C**2*L*s + C**2*R)/(C**2*L*s**2 + C**2*R*s + L),      C*L/(C**2*L*s**2 + C**2*R*s + L)],\n",
       "[               -C*L/(C**2*L*s**2 + C**2*R*s + L), C**2*L*s/(C**2*L*s**2 + C**2*R*s + L)]])"
      ]
     },
     "metadata": {},
     "output_type": "display_data"
    },
    {
     "data": {
      "text/plain": [
       "'Transfer Function  didapatkan:'"
      ]
     },
     "metadata": {},
     "output_type": "display_data"
    },
    {
     "data": {
      "text/latex": [
       "$\\displaystyle \\left[\\begin{matrix}\\frac{C}{C^{2} L s^{2} + C^{2} R s + L}\\\\\\frac{C^{2} s}{C^{2} L s^{2} + C^{2} R s + L}\\end{matrix}\\right]$"
      ],
      "text/plain": [
       "Matrix([\n",
       "[     C/(C**2*L*s**2 + C**2*R*s + L)],\n",
       "[C**2*s/(C**2*L*s**2 + C**2*R*s + L)]])"
      ]
     },
     "metadata": {},
     "output_type": "display_data"
    }
   ],
   "source": [
    "s = sp.Symbol('s')\n",
    "I = sp.eye(A.shape[0])\n",
    "display(I)\n",
    "inv_M=(I*s - A).inv()\n",
    "display(inv_M)\n",
    "TFL = C*inv_M*B \n",
    "display(\"Transfer Function  didapatkan:\",TFL)"
   ]
  },
  {
   "cell_type": "code",
   "execution_count": null,
   "id": "913ae10b-2f9a-407c-83a3-273e0c6dd50a",
   "metadata": {},
   "outputs": [],
   "source": []
  }
 ],
 "metadata": {
  "kernelspec": {
   "display_name": "Python 3 (ipykernel)",
   "language": "python",
   "name": "python3"
  },
  "language_info": {
   "codemirror_mode": {
    "name": "ipython",
    "version": 3
   },
   "file_extension": ".py",
   "mimetype": "text/x-python",
   "name": "python",
   "nbconvert_exporter": "python",
   "pygments_lexer": "ipython3",
   "version": "3.11.4"
  }
 },
 "nbformat": 4,
 "nbformat_minor": 5
}
