{
 "cells": [
  {
   "cell_type": "markdown",
   "id": "a7b62bbf-9bae-48c1-8b0b-21c652bd6467",
   "metadata": {},
   "source": [
    "# Sistem Kendali #"
   ]
  },
  {
   "cell_type": "markdown",
   "id": "5d750c75-2b9c-4892-a8b4-550addaffa6e",
   "metadata": {},
   "source": [
    "## Pemodelan Matematika ##"
   ]
  },
  {
   "attachments": {},
   "cell_type": "markdown",
   "id": "48ebb500-7b54-4b4e-9464-1f7ddb7294bf",
   "metadata": {},
   "source": [
    "Program ini berisi beberapa contoh pemodelan matematika pada beberapa kejadian fisis yang terjadi disekitar kita. Model matematis sebuah proses ditentukan dengan  menggunakan Penurunan hukum fisika dan memiliki keunggulan antara lain 1) \n",
    "Lebih akuatr 2. \r\n",
    "Model yang dihasilkan semakin kompleks jika  memperhatikan detail stemis 3 m\r\n",
    "Berpeluang menghasilkan model yang tidak linier\r\n"
   ]
  },
  {
   "cell_type": "markdown",
   "id": "f5953b69-0d31-4c48-bfaa-87df134a73cb",
   "metadata": {},
   "source": [
    "### Pemodelan Pada Rangkaian Listrik ###"
   ]
  },
  {
   "cell_type": "markdown",
   "id": "963968f0-220f-4665-b1c8-bbb74594e8d5",
   "metadata": {},
   "source": [
    "<img src=\"img/circuit.jpg\">\n",
    "Pada gambar diatas, bagaimana cara kita memodelkan teganan pada beban $R$ ($V_R$)?\n",
    "<BR>Berdasarkan hukum Ohm: $V=iR$</BR>\n",
    "<BR>Berdasarkan hukum Faraday: $V_L=L\\frac{d_i}{dt}$\n",
    "<BR>Berdasarkan hukum Kirchoff:$V_s=V_r+V_L$ </BR>"
   ]
  },
  {
   "cell_type": "code",
   "execution_count": 1,
   "id": "6048c760-9067-4d07-8a44-0c00df43083f",
   "metadata": {},
   "outputs": [],
   "source": [
    "import sympy as sp"
   ]
  },
  {
   "cell_type": "code",
   "execution_count": 2,
   "id": "d58f55dd-2cc2-4312-8ff2-9238972af897",
   "metadata": {},
   "outputs": [
    {
     "data": {
      "text/latex": [
       "$\\displaystyle L \\frac{d}{d t} i{\\left(t \\right)} + R i - V_{s}$"
      ],
      "text/plain": [
       "L*Derivative(i(t), t) + R*i - V_s"
      ]
     },
     "metadata": {},
     "output_type": "display_data"
    }
   ],
   "source": [
    "R, L, i, vs, t = sp.symbols('R,L,i,V_s, t')\n",
    "id = (sp.Function('i')(t).diff(t))\n",
    "vr = i*R\n",
    "vl = L*id\n",
    "EQ = -vs+vr+vl\n",
    "display(EQ)"
   ]
  },
  {
   "cell_type": "markdown",
   "id": "38c50bd9-88df-4fef-9585-ff4cc6fb045c",
   "metadata": {},
   "source": [
    "### Pemodelan pada Pegas ###"
   ]
  },
  {
   "cell_type": "markdown",
   "id": "afb30d89-e340-40b6-8790-5f1d79378fb9",
   "metadata": {},
   "source": [
    "<img src=\"img/spring1.png\">\n",
    "input adalah $u$ dan output adalah jarak renggang $x$ Bagaimana model matematisnya?\n",
    "<BR>Hukum Faraday: $F=ma$ dimana $m$ adalah masa (kg) dan $a$ adalah percepatan ($m/s^2$)dan $F$ adalah gaya dengan satuan Newton<BR>\n",
    "<BR>Hooke Law terkait dengan gaya pada spring menyatakan $F_{spring}=-kx$  dimana $F_{spring}$ adalah gaya pada spring dengan satuan Newton, dan $-k$ adalah konstanta spring (stiffness dari spring) $x$ extension/peregangan pada spring.</BR>\n",
    "<BR>Stooke Law terkait dengan friction menyatakan bahwa $F_{friction}=-{\\rho}\\dot{x}$ dimana $\\rho$ adalah koefisien friction dan $\\dot{x}$ adalah turunan pertama dari extension/pereganan pada spring.\n",
    "Dengan $u$ sebagai daya tarik, maka kita bisa mendapatkan persamaan bahwa:\n",
    "<BR>$F=F_{spring}+F_{friction}+u$"
   ]
  },
  {
   "cell_type": "code",
   "execution_count": 4,
   "id": "15e7ec81-b473-4fab-b036-f376d5301023",
   "metadata": {},
   "outputs": [
    {
     "data": {
      "text/plain": [
       "'F:'"
      ]
     },
     "metadata": {},
     "output_type": "display_data"
    },
    {
     "data": {
      "text/latex": [
       "$\\displaystyle - \\dot{x} \\rho - k x + u$"
      ],
      "text/plain": [
       "-\\dot{x}*\\rho - k*x + u"
      ]
     },
     "metadata": {},
     "output_type": "display_data"
    }
   ],
   "source": [
    "v, m,a,x,k,u,xd,xdd, rho = sp.symbols(r'v, m,a,x,k,u,\\dot{x},\\ddot{x},\\rho')\n",
    "Fn = m*a\n",
    "Hooke = -k*x\n",
    "Stoke = -rho*xd\n",
    "Eq=Hooke+Stoke+u\n",
    "display('F:',Eq)"
   ]
  },
  {
   "cell_type": "code",
   "execution_count": 11,
   "id": "d7fa4fb1-dcde-48b3-abfa-de0a6d29e336",
   "metadata": {},
   "outputs": [
    {
     "data": {
      "text/latex": [
       "$\\displaystyle - \\dot{x} \\rho + a m - k x + u$"
      ],
      "text/plain": [
       "-\\dot{x}*\\rho + a*m - k*x + u"
      ]
     },
     "metadata": {},
     "output_type": "display_data"
    },
    {
     "name": "stdout",
     "output_type": "stream",
     "text": [
      "Persamaan U=\n"
     ]
    },
    {
     "data": {
      "text/latex": [
       "$\\displaystyle - \\ddot{x} m + \\dot{x} \\rho + k x$"
      ],
      "text/plain": [
       "-\\ddot{x}*m + \\dot{x}*\\rho + k*x"
      ]
     },
     "metadata": {},
     "output_type": "display_data"
    }
   ],
   "source": [
    "Eq=Hooke+Stoke+Fn+u\n",
    "display(Eq)\n",
    "Eq = Eq.subs([(a,xdd)])\n",
    "Eq = sp.solve(Eq,u)\n",
    "print(\"Persamaan U=\")\n",
    "Eq = Eq[0]\n",
    "display(Eq)"
   ]
  },
  {
   "cell_type": "code",
   "execution_count": 12,
   "id": "ec17d3b3-a6b8-4cc1-995a-697fc0c3a165",
   "metadata": {},
   "outputs": [
    {
     "data": {
      "text/plain": [
       "'Persamaan $\\\\dot{x}$:'"
      ]
     },
     "metadata": {},
     "output_type": "display_data"
    },
    {
     "data": {
      "text/latex": [
       "$\\displaystyle v$"
      ],
      "text/plain": [
       "v"
      ]
     },
     "metadata": {},
     "output_type": "display_data"
    }
   ],
   "source": [
    "Eq2 = v\n",
    "display('Persamaan $\\dot{x}$:',Eq2)"
   ]
  },
  {
   "cell_type": "code",
   "execution_count": 14,
   "id": "81730f57-c722-4cd6-8917-14453edbb53c",
   "metadata": {},
   "outputs": [],
   "source": [
    "dxdt = sp.poly(Eq,(x,v)).as_dict()\n",
    "dvdt = sp.poly(Eq2,(x,v)).as_dict()"
   ]
  },
  {
   "cell_type": "code",
   "execution_count": 21,
   "id": "de5980aa-8cb8-48e5-9482-81c0a01eb1b0",
   "metadata": {},
   "outputs": [
    {
     "name": "stdout",
     "output_type": "stream",
     "text": [
      "Berdasarkan persamaan diatas:\n",
      "k\n",
      "2\n"
     ]
    },
    {
     "data": {
      "text/latex": [
       "$\\displaystyle k$"
      ],
      "text/plain": [
       "k"
      ]
     },
     "metadata": {},
     "output_type": "display_data"
    }
   ],
   "source": [
    "#print(dxdt,\"\\n\\n\",dvdt,\"\\n\\n\")\n",
    "print(\"Berdasarkan persamaan diatas:\")\n",
    "print(dxdt[1,0,])\n",
    "print(len(dxdt))\n",
    "display(dxdt[1,0])"
   ]
  },
  {
   "cell_type": "markdown",
   "id": "b42ffc2d-a905-4216-93d0-210f1d086293",
   "metadata": {},
   "source": [
    "## State Space Equation ##"
   ]
  },
  {
   "cell_type": "markdown",
   "id": "d7f0b8ee-8341-4da0-8e54-82301a5a4782",
   "metadata": {},
   "source": [
    "Persamaan State Space dapat menggunakan rumus dibawah ini: \n",
    "$$x={A}{\\dot{x}}+Bu$$\n",
    "$$y=Cx+Du$$\n",
    "Berdasarkan persamaan diatas, maka didapatkan matrix $A$, $B$, $C$ untuk pemodelan pada pegas"
   ]
  },
  {
   "cell_type": "code",
   "execution_count": 31,
   "id": "c009c648-b874-4cb1-b08b-3a34c66e0b75",
   "metadata": {},
   "outputs": [
    {
     "data": {
      "text/plain": [
       "'Matrix A:'"
      ]
     },
     "metadata": {},
     "output_type": "display_data"
    },
    {
     "data": {
      "text/latex": [
       "$\\displaystyle \\left[\\begin{matrix}0 & 1\\\\- \\frac{k}{m} & - \\frac{\\rho}{m}\\end{matrix}\\right]$"
      ],
      "text/plain": [
       "Matrix([\n",
       "[   0,       1],\n",
       "[-k/m, -\\rho/m]])"
      ]
     },
     "metadata": {},
     "output_type": "display_data"
    },
    {
     "name": "stdout",
     "output_type": "stream",
     "text": [
      "\n",
      "\n"
     ]
    },
    {
     "data": {
      "text/plain": [
       "'Matrix B:'"
      ]
     },
     "metadata": {},
     "output_type": "display_data"
    },
    {
     "data": {
      "text/latex": [
       "$\\displaystyle \\left[\\begin{matrix}0\\\\\\frac{1}{m}\\end{matrix}\\right]$"
      ],
      "text/plain": [
       "Matrix([\n",
       "[  0],\n",
       "[1/m]])"
      ]
     },
     "metadata": {},
     "output_type": "display_data"
    },
    {
     "data": {
      "text/plain": [
       "'Matrix C:'"
      ]
     },
     "metadata": {},
     "output_type": "display_data"
    },
    {
     "data": {
      "text/latex": [
       "$\\displaystyle \\left[\\begin{matrix}1 & 0\\end{matrix}\\right]$"
      ],
      "text/plain": [
       "Matrix([[1, 0]])"
      ]
     },
     "metadata": {},
     "output_type": "display_data"
    }
   ],
   "source": [
    "A_Row_1 = (0,1)\n",
    "A_Row_2 = (-k/m,-rho/m)\n",
    "A  = sp.Matrix([A_Row_1,A_Row_2])\n",
    "display('Matrix A:',A)\n",
    "print(\"\\n\")\n",
    "B_Row_1 = (0)\n",
    "B_Row_2 = (1/m)\n",
    "B = sp.Matrix([B_Row_1,B_Row_2])\n",
    "display('Matrix B:',B)\n",
    "C_Row_1 = (1,0)\n",
    "C = sp.Matrix([C_Row_1])\n",
    "display('Matrix C:',C)"
   ]
  },
  {
   "attachments": {},
   "cell_type": "markdown",
   "id": "bad499c4-ea6d-4d2b-ac3b-5dee887aaf28",
   "metadata": {},
   "source": [
    "## Transfer Function ##\n",
    "Transfer function dalam sistem kontrol merupakan representasi matematis dari hubungan antara input dan output suatu sistem. Transfer function ini menggambarkan bagaimana sistem akan merespons terhadap input yang diberikan dalam bentuk fungsi matematis. Dengan menggunakan transfer function, kita dapat menganalisis karakteristik sistem, seperti stabilitas, kecepatan respon, dan redaman. Dalam bentuk matematis, transfer function biasanya dinyatakan sebagai rasio antara transformasi Laplace dari output dengan transformasi Laplace dari input pada kondisi keadaan tunak (steady-state).\n",
    "\n",
    "Transfer function adalah the Laplace Transform dari  State Space Equation\n",
    "\n",
    "$$sX(s)=AX(s)+Bu(s)$$\n",
    "$$Bu(s)=sX(s)−AX(s)$$  \n",
    "$$Bu(s)=[sI−A]X(s)$$\n",
    "$$X(s)= [sI−A]^{−1}Bu(s)$$  \n",
    "\n",
    "$$Y(s)=CX(s)+Du(s)$$; Substitute X(s)  from above \n",
    "$$Y(s)=(C[sI−A])^{−1}$$ $$BU(s)+Du(s)$$ ; Separate u(s)\n",
    "$$Y(s)=(u(s)(C[sI−A])^{−1} B+D)$$\n",
    "Sehingga bisa kita dapatkan formula transfer function adalah sebagai berikut:\n",
    "$$\\frac{Y(s)}{u(s)} =C[sI−A]^{−1} B+D$$\n"
   ]
  },
  {
   "cell_type": "code",
   "execution_count": 32,
   "id": "24f530d8-8cdd-44c7-b2da-1cb1cba34fbc",
   "metadata": {},
   "outputs": [
    {
     "data": {
      "text/latex": [
       "$\\displaystyle \\left[\\begin{matrix}0 & 1\\\\- \\frac{k}{m} & - \\frac{\\rho}{m}\\end{matrix}\\right]$"
      ],
      "text/plain": [
       "Matrix([\n",
       "[   0,       1],\n",
       "[-k/m, -\\rho/m]])"
      ]
     },
     "metadata": {},
     "output_type": "display_data"
    },
    {
     "data": {
      "text/latex": [
       "$\\displaystyle \\left[\\begin{matrix}0\\\\\\frac{1}{m}\\end{matrix}\\right]$"
      ],
      "text/plain": [
       "Matrix([\n",
       "[  0],\n",
       "[1/m]])"
      ]
     },
     "metadata": {},
     "output_type": "display_data"
    },
    {
     "data": {
      "text/latex": [
       "$\\displaystyle \\left[\\begin{matrix}1 & 0\\end{matrix}\\right]$"
      ],
      "text/plain": [
       "Matrix([[1, 0]])"
      ]
     },
     "metadata": {},
     "output_type": "display_data"
    },
    {
     "data": {
      "text/latex": [
       "$\\displaystyle \\left[\\begin{matrix}1 & 0\\\\0 & 1\\end{matrix}\\right]$"
      ],
      "text/plain": [
       "Matrix([\n",
       "[1, 0],\n",
       "[0, 1]])"
      ]
     },
     "metadata": {},
     "output_type": "display_data"
    },
    {
     "data": {
      "text/latex": [
       "$\\displaystyle \\left[\\begin{matrix}\\frac{\\rho + m s}{\\rho s + k + m s^{2}} & \\frac{m}{\\rho s + k + m s^{2}}\\\\- \\frac{k}{\\rho s + k + m s^{2}} & \\frac{m s}{\\rho s + k + m s^{2}}\\end{matrix}\\right]$"
      ],
      "text/plain": [
       "Matrix([\n",
       "[(\\rho + m*s)/(\\rho*s + k + m*s**2),   m/(\\rho*s + k + m*s**2)],\n",
       "[          -k/(\\rho*s + k + m*s**2), m*s/(\\rho*s + k + m*s**2)]])"
      ]
     },
     "metadata": {},
     "output_type": "display_data"
    },
    {
     "data": {
      "text/plain": [
       "'Transfer Function Pegas didapatkan:'"
      ]
     },
     "metadata": {},
     "output_type": "display_data"
    },
    {
     "data": {
      "text/latex": [
       "$\\displaystyle \\left[\\begin{matrix}\\frac{1}{\\rho s + k + m s^{2}}\\end{matrix}\\right]$"
      ],
      "text/plain": [
       "Matrix([[1/(\\rho*s + k + m*s**2)]])"
      ]
     },
     "metadata": {},
     "output_type": "display_data"
    }
   ],
   "source": [
    "display(A,B,C)\n",
    "s = sp.Symbol('s')\n",
    "I = sp.eye(A.shape[0])\n",
    "display(I)\n",
    "inv_M=(I*s - A).inv()\n",
    "display(inv_M)\n",
    "TFL = C*inv_M*B \n",
    "display(\"Transfer Function Pegas didapatkan:\",TFL)"
   ]
  },
  {
   "cell_type": "code",
   "execution_count": null,
   "id": "7d922594-72ea-41d2-adf8-a332ea6333e1",
   "metadata": {},
   "outputs": [],
   "source": []
  }
 ],
 "metadata": {
  "kernelspec": {
   "display_name": "Python 3 (ipykernel)",
   "language": "python",
   "name": "python3"
  },
  "language_info": {
   "codemirror_mode": {
    "name": "ipython",
    "version": 3
   },
   "file_extension": ".py",
   "mimetype": "text/x-python",
   "name": "python",
   "nbconvert_exporter": "python",
   "pygments_lexer": "ipython3",
   "version": "3.11.4"
  }
 },
 "nbformat": 4,
 "nbformat_minor": 5
}
