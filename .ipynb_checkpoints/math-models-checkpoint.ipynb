{
 "cells": [
  {
   "cell_type": "markdown",
   "id": "a7b62bbf-9bae-48c1-8b0b-21c652bd6467",
   "metadata": {},
   "source": [
    "# Sistem Kendali #"
   ]
  },
  {
   "cell_type": "markdown",
   "id": "5d750c75-2b9c-4892-a8b4-550addaffa6e",
   "metadata": {},
   "source": [
    "## Pemodelan Matematika ##"
   ]
  },
  {
   "attachments": {},
   "cell_type": "markdown",
   "id": "48ebb500-7b54-4b4e-9464-1f7ddb7294bf",
   "metadata": {},
   "source": [
    "Program ini berisi beberapa contoh pemodelan matematika pada beberapa kejadian fisis yang terjadi disekitar kita. Model matematis sebuah proses ditentukan dengan  menggunakan Penurunan hukum fisika dan memiliki keunggulan antara lain 1) \n",
    "Lebih akuatr 2. \r\n",
    "Model yang dihasilkan semakin kompleks jika  memperhatikan detail stemis 3 m\r\n",
    "Berpeluang menghasilkan model yang tidak linier\r\n"
   ]
  },
  {
   "cell_type": "code",
   "execution_count": 93,
   "id": "6048c760-9067-4d07-8a44-0c00df43083f",
   "metadata": {},
   "outputs": [],
   "source": [
    "import sympy as sp"
   ]
  },
  {
   "cell_type": "markdown",
   "id": "38c50bd9-88df-4fef-9585-ff4cc6fb045c",
   "metadata": {},
   "source": [
    "### Pemodelan pada Pegas ###"
   ]
  },
  {
   "cell_type": "markdown",
   "id": "afb30d89-e340-40b6-8790-5f1d79378fb9",
   "metadata": {},
   "source": [
    "<img src=\"img/spring1.png\">\n",
    "input adalah $u$ dan output adalah jarak renggang $x$ Bagaimana model matematisnya?\n",
    "<BR>Hukum Faraday: $F=ma$ dimana $m$ adalah masa (kg) dan $a$ adalah percepatan ($m/s^2$)dan $F$ adalah gaya dengan satuan Newton<BR>\n",
    "<BR>Hooke Law terkait dengan gaya pada spring menyatakan $F_{spring}=-kx$  dimana $F_{spring}$ adalah gaya pada spring dengan satuan Newton, dan $-k$ adalah konstanta spring (stiffness dari spring) $x$ extension/peregangan pada spring.</BR>\n",
    "<BR>Stooke Law terkait dengan friction menyatakan bahwa $F_{friction}=-{\\rho}\\dot{x}$ dimana $\\rho$ adalah koefisien friction dan $\\dot{x}$ adalah turunan pertama dari extension/pereganan pada spring.dimana: \n",
    "$$F = ma$$\n",
    "Dengan $u$ sebagai daya tarik, maka kita bisa mendapatkan persamaan bahwa:\n",
    "<BR>$F=F_{spring}+F_{friction}+u$"
   ]
  },
  {
   "cell_type": "code",
   "execution_count": 94,
   "id": "15e7ec81-b473-4fab-b036-f376d5301023",
   "metadata": {},
   "outputs": [
    {
     "data": {
      "text/plain": [
       "'Persamaan F:'"
      ]
     },
     "metadata": {},
     "output_type": "display_data"
    },
    {
     "data": {
      "text/latex": [
       "$\\displaystyle a m$"
      ],
      "text/plain": [
       "a*m"
      ]
     },
     "metadata": {},
     "output_type": "display_data"
    },
    {
     "data": {
      "text/plain": [
       "'Persamaan F_spring:'"
      ]
     },
     "metadata": {},
     "output_type": "display_data"
    },
    {
     "data": {
      "text/latex": [
       "$\\displaystyle - k x$"
      ],
      "text/plain": [
       "-k*x"
      ]
     },
     "metadata": {},
     "output_type": "display_data"
    },
    {
     "data": {
      "text/plain": [
       "'Persamaan F_frinction:'"
      ]
     },
     "metadata": {},
     "output_type": "display_data"
    },
    {
     "data": {
      "text/latex": [
       "$\\displaystyle - \\dot{x} \\rho$"
      ],
      "text/plain": [
       "-\\dot{x}*\\rho"
      ]
     },
     "metadata": {},
     "output_type": "display_data"
    },
    {
     "data": {
      "text/plain": [
       "'Persamaan F:'"
      ]
     },
     "metadata": {},
     "output_type": "display_data"
    },
    {
     "data": {
      "text/latex": [
       "$\\displaystyle - \\dot{x} \\rho - k x + u$"
      ],
      "text/plain": [
       "-\\dot{x}*\\rho - k*x + u"
      ]
     },
     "metadata": {},
     "output_type": "display_data"
    },
    {
     "name": "stdout",
     "output_type": "stream",
     "text": [
      "- \\dot{x} \\rho - k x + u\n"
     ]
    }
   ],
   "source": [
    "v, m,a,x,k,u,xd,xdd, rho = sp.symbols(r'v, m,a,x,k,u,\\dot{x},\\ddot{x},\\rho')\n",
    "Fn = m*a\n",
    "display(\"Persamaan F:\", Fn)\n",
    "Hooke = -k*x\n",
    "display(\"Persamaan F_spring:\", Hooke)\n",
    "Stoke = -rho*xd\n",
    "display(\"Persamaan F_frinction:\", Stoke)\n",
    "Eq=Hooke+Stoke+u\n",
    "display('Persamaan F:',Eq)\n",
    "print(sp.latex(Eq)) "
   ]
  },
  {
   "cell_type": "markdown",
   "id": "01984f3c-ca68-4175-bb11-226b5381dcbd",
   "metadata": {},
   "source": [
    "$$F = - \\dot{x} \\rho - k x + u$$\n",
    "\n",
    "sehingga,\n",
    "$$ma = - \\dot{x} \\rho - k x + u $$\n",
    "\n",
    "Note bahwa x adalah jarak renggang dan turunan pertama dan keduanya merupakan:\n",
    "$\\dot{x}=v$ dan $\\ddot{x}=a$\n",
    "\n",
    "sehingga: \n",
    "$$ m\\ddot{x} = - \\dot{x} \\rho - k x + u $$\n",
    "$$ \\ddot{x}=\\frac{ - \\dot{x} \\rho - k x + u}{m}$$"
   ]
  },
  {
   "cell_type": "code",
   "execution_count": 95,
   "id": "d7fa4fb1-dcde-48b3-abfa-de0a6d29e336",
   "metadata": {},
   "outputs": [
    {
     "data": {
      "text/plain": [
       "'Persamaan F_spring+F_frinction+u-F:'"
      ]
     },
     "metadata": {},
     "output_type": "display_data"
    },
    {
     "data": {
      "text/latex": [
       "$\\displaystyle - \\dot{x} \\rho - a m - k x + u$"
      ],
      "text/plain": [
       "-\\dot{x}*\\rho - a*m - k*x + u"
      ]
     },
     "metadata": {},
     "output_type": "display_data"
    },
    {
     "data": {
      "text/plain": [
       "'substitusi a dengan x_double_dot'"
      ]
     },
     "metadata": {},
     "output_type": "display_data"
    },
    {
     "data": {
      "text/latex": [
       "$\\displaystyle - \\ddot{x} m - \\dot{x} \\rho - k x + u$"
      ],
      "text/plain": [
       "-\\ddot{x}*m - \\dot{x}*\\rho - k*x + u"
      ]
     },
     "metadata": {},
     "output_type": "display_data"
    }
   ],
   "source": [
    "Eq=Hooke+Stoke-Fn+u\n",
    "display(\"Persamaan F_spring+F_frinction+u-F:\", Eq)\n",
    "Eq = Eq.subs([(a,xdd)])\n",
    "display(\"substitusi a dengan x_double_dot\",Eq)"
   ]
  },
  {
   "cell_type": "code",
   "execution_count": 96,
   "id": "ec17d3b3-a6b8-4cc1-995a-697fc0c3a165",
   "metadata": {},
   "outputs": [
    {
     "data": {
      "text/plain": [
       "'Persamaan '"
      ]
     },
     "metadata": {},
     "output_type": "display_data"
    },
    {
     "data": {
      "text/latex": [
       "$\\displaystyle \\frac{- \\ddot{x} m - \\dot{x} \\rho - k x + u}{m}$"
      ],
      "text/plain": [
       "(-\\ddot{x}*m - \\dot{x}*\\rho - k*x + u)/m"
      ]
     },
     "metadata": {},
     "output_type": "display_data"
    }
   ],
   "source": [
    "Eq10 = Eq/m\n",
    "display(\"Persamaan \", Eq10.simplify())"
   ]
  },
  {
   "cell_type": "markdown",
   "id": "b42ffc2d-a905-4216-93d0-210f1d086293",
   "metadata": {},
   "source": [
    "## State Space Equation ##\n",
    "persamaan terakhir:\n",
    "$$ \\ddot{x}=\\frac{ - \\dot{x} \\rho - k x + u}{m}$$\n",
    "\n",
    "ingat: $u$ adalah input dan $x$ adalah output\n",
    "\n",
    "Variabel yang dipilih sebagai state space adalah: $x_1 = x$  dan $x_2 = \\dot{x}$ sehingga\n",
    "\n",
    "$$ \\dot{x_2} = \\ddot{x}$$\n",
    "\n",
    "sehingga terdapat dua persamaan:\n",
    "\n",
    "(1) $$ \\dot{x_1} = x_2 $$ \n",
    "(2) $$ \\dot{x_2}=\\frac{ - {x_2} \\rho - k x_1 + u}{m}$$\n",
    "\n"
   ]
  },
  {
   "cell_type": "code",
   "execution_count": 97,
   "id": "c36062e5-bd21-4d9a-8a27-4a1a0e7846b4",
   "metadata": {},
   "outputs": [
    {
     "data": {
      "text/latex": [
       "$\\displaystyle \\frac{- \\ddot{x} m - \\rho x_{2} - k x_{1} + u}{m}$"
      ],
      "text/plain": [
       "(-\\ddot{x}*m - \\rho*x_2 - k*x_1 + u)/m"
      ]
     },
     "metadata": {},
     "output_type": "display_data"
    }
   ],
   "source": [
    "x1,x2 = sp.symbols('x_1,x_2')\n",
    "Eq11 = Eq10.subs([(x,x1),(xd,x2)])\n",
    "display(Eq11)"
   ]
  },
  {
   "cell_type": "markdown",
   "id": "d7f0b8ee-8341-4da0-8e54-82301a5a4782",
   "metadata": {},
   "source": [
    "Persamaan State Space dapat menggunakan rumus dibawah ini: \n",
    "$$x={A}{\\dot{x}}+Bu$$\n",
    "$$y=Cx+Du$$\n",
    "Berdasarkan persamaan diatas, maka didapatkan matrix $A$, $B$, $C$ untuk pemodelan pada pegas\n",
    "sehingga\n",
    "$${x} = \\begin{bmatrix} {x_1}\\\\{x_2}\\end{bmatrix}$$\n",
    "\n",
    "Diketahui:\n",
    "$${A} = \\begin{bmatrix} {0} & {1} \\\\ -\\frac{k}{m} & -\\frac{\\rho}{m}\\end{bmatrix}$$\n",
    "$${B} = \\begin{bmatrix} {0}\\\\{\\frac{1}{m}}\\end{bmatrix}$$\n",
    "$${C} = \\begin{bmatrix} 1 & 0\\\\ 0 & 1\\end{bmatrix}$$\n",
    "$${D} = 0 $$\n",
    "Hitung:\n",
    "$$\\frac{Y(s)}{U(s)} = {C[sI−A]^{−1}}B+D $$"
   ]
  },
  {
   "cell_type": "code",
   "execution_count": 98,
   "id": "c009c648-b874-4cb1-b08b-3a34c66e0b75",
   "metadata": {},
   "outputs": [
    {
     "data": {
      "text/plain": [
       "'Matrix A:'"
      ]
     },
     "metadata": {},
     "output_type": "display_data"
    },
    {
     "data": {
      "text/latex": [
       "$\\displaystyle \\left[\\begin{matrix}0 & 1\\\\- \\frac{k}{m} & - \\frac{\\rho}{m}\\end{matrix}\\right]$"
      ],
      "text/plain": [
       "Matrix([\n",
       "[   0,       1],\n",
       "[-k/m, -\\rho/m]])"
      ]
     },
     "metadata": {},
     "output_type": "display_data"
    },
    {
     "name": "stdout",
     "output_type": "stream",
     "text": [
      "\n",
      "\n"
     ]
    },
    {
     "data": {
      "text/plain": [
       "'Matrix B:'"
      ]
     },
     "metadata": {},
     "output_type": "display_data"
    },
    {
     "data": {
      "text/latex": [
       "$\\displaystyle \\left[\\begin{matrix}0\\\\\\frac{1}{m}\\end{matrix}\\right]$"
      ],
      "text/plain": [
       "Matrix([\n",
       "[  0],\n",
       "[1/m]])"
      ]
     },
     "metadata": {},
     "output_type": "display_data"
    },
    {
     "data": {
      "text/plain": [
       "'Matrix C:'"
      ]
     },
     "metadata": {},
     "output_type": "display_data"
    },
    {
     "data": {
      "text/latex": [
       "$\\displaystyle \\left[\\begin{matrix}1 & 0\\end{matrix}\\right]$"
      ],
      "text/plain": [
       "Matrix([[1, 0]])"
      ]
     },
     "metadata": {},
     "output_type": "display_data"
    }
   ],
   "source": [
    "A_Row_1 = (0,1)\n",
    "A_Row_2 = (-k/m,-rho/m)\n",
    "A  = sp.Matrix([A_Row_1,A_Row_2])\n",
    "display('Matrix A:',A)\n",
    "print(\"\\n\")\n",
    "B_Row_1 = (0)\n",
    "B_Row_2 = (1/m)\n",
    "B = sp.Matrix([B_Row_1,B_Row_2])\n",
    "display('Matrix B:',B)\n",
    "C_Row_1 = (1,0)\n",
    "C = sp.Matrix([C_Row_1])\n",
    "display('Matrix C:',C)"
   ]
  },
  {
   "attachments": {},
   "cell_type": "markdown",
   "id": "bad499c4-ea6d-4d2b-ac3b-5dee887aaf28",
   "metadata": {},
   "source": [
    "## Transfer Function ##\n",
    "Transfer function dalam sistem kontrol merupakan representasi matematis dari hubungan antara input dan output suatu sistem. Transfer function ini menggambarkan bagaimana sistem akan merespons terhadap input yang diberikan dalam bentuk fungsi matematis. Dengan menggunakan transfer function, kita dapat menganalisis karakteristik sistem, seperti stabilitas, kecepatan respon, dan redaman. Dalam bentuk matematis, transfer function biasanya dinyatakan sebagai rasio antara transformasi Laplace dari output dengan transformasi Laplace dari input pada kondisi keadaan tunak (steady-state).\n",
    "\n",
    "Transfer function adalah the Laplace Transform dari  State Space Equation\n",
    "\n",
    "$$sX(s)=AX(s)+Bu(s)$$\n",
    "$$Bu(s)=sX(s)−AX(s)$$  \n",
    "$$Bu(s)=[sI−A]X(s)$$\n",
    "$$X(s)= [sI−A]^{−1}Bu(s)$$  \n",
    "\n",
    "$$Y(s)=CX(s)+Du(s)$$; Substitute X(s)  from above \n",
    "$$Y(s)=(C[sI−A])^{−1}$$ $$BU(s)+Du(s)$$ ; Separate u(s)\n",
    "$$Y(s)=(u(s)(C[sI−A])^{−1} B+D)$$\n",
    "Sehingga bisa kita dapatkan formula transfer function adalah sebagai berikut:\n",
    "$$\\frac{Y(s)}{u(s)} =C[sI−A]^{−1} B+D$$\n"
   ]
  },
  {
   "cell_type": "code",
   "execution_count": 99,
   "id": "24f530d8-8cdd-44c7-b2da-1cb1cba34fbc",
   "metadata": {},
   "outputs": [
    {
     "data": {
      "text/latex": [
       "$\\displaystyle \\left[\\begin{matrix}0 & 1\\\\- \\frac{k}{m} & - \\frac{\\rho}{m}\\end{matrix}\\right]$"
      ],
      "text/plain": [
       "Matrix([\n",
       "[   0,       1],\n",
       "[-k/m, -\\rho/m]])"
      ]
     },
     "metadata": {},
     "output_type": "display_data"
    },
    {
     "data": {
      "text/latex": [
       "$\\displaystyle \\left[\\begin{matrix}0\\\\\\frac{1}{m}\\end{matrix}\\right]$"
      ],
      "text/plain": [
       "Matrix([\n",
       "[  0],\n",
       "[1/m]])"
      ]
     },
     "metadata": {},
     "output_type": "display_data"
    },
    {
     "data": {
      "text/latex": [
       "$\\displaystyle \\left[\\begin{matrix}1 & 0\\end{matrix}\\right]$"
      ],
      "text/plain": [
       "Matrix([[1, 0]])"
      ]
     },
     "metadata": {},
     "output_type": "display_data"
    },
    {
     "data": {
      "text/latex": [
       "$\\displaystyle \\left[\\begin{matrix}1 & 0\\\\0 & 1\\end{matrix}\\right]$"
      ],
      "text/plain": [
       "Matrix([\n",
       "[1, 0],\n",
       "[0, 1]])"
      ]
     },
     "metadata": {},
     "output_type": "display_data"
    },
    {
     "data": {
      "text/latex": [
       "$\\displaystyle \\left[\\begin{matrix}\\frac{\\rho + m s}{\\rho s + k + m s^{2}} & \\frac{m}{\\rho s + k + m s^{2}}\\\\- \\frac{k}{\\rho s + k + m s^{2}} & \\frac{m s}{\\rho s + k + m s^{2}}\\end{matrix}\\right]$"
      ],
      "text/plain": [
       "Matrix([\n",
       "[(\\rho + m*s)/(\\rho*s + k + m*s**2),   m/(\\rho*s + k + m*s**2)],\n",
       "[          -k/(\\rho*s + k + m*s**2), m*s/(\\rho*s + k + m*s**2)]])"
      ]
     },
     "metadata": {},
     "output_type": "display_data"
    },
    {
     "data": {
      "text/plain": [
       "'Transfer Function Pegas didapatkan:'"
      ]
     },
     "metadata": {},
     "output_type": "display_data"
    },
    {
     "data": {
      "text/latex": [
       "$\\displaystyle \\left[\\begin{matrix}\\frac{1}{\\rho s + k + m s^{2}}\\end{matrix}\\right]$"
      ],
      "text/plain": [
       "Matrix([[1/(\\rho*s + k + m*s**2)]])"
      ]
     },
     "metadata": {},
     "output_type": "display_data"
    }
   ],
   "source": [
    "display(A,B,C)\n",
    "s = sp.Symbol('s')\n",
    "I = sp.eye(A.shape[0])\n",
    "display(I)\n",
    "inv_M=(I*s - A).inv()\n",
    "display(inv_M)\n",
    "TFL = C*inv_M*B \n",
    "display(\"Transfer Function Pegas didapatkan:\",TFL)"
   ]
  },
  {
   "cell_type": "code",
   "execution_count": 113,
   "id": "600cc3b2-bbfc-4916-ad21-0914962f0c47",
   "metadata": {},
   "outputs": [
    {
     "data": {
      "text/latex": [
       "$\\displaystyle \\frac{1}{\\rho s + k + m s^{2}}$"
      ],
      "text/plain": [
       "1/(\\rho*s + k + m*s**2)"
      ]
     },
     "metadata": {},
     "output_type": "display_data"
    },
    {
     "data": {
      "text/latex": [
       "$\\displaystyle \\frac{1}{6.28 i \\rho f - 39.4384 f^{2} m + k}$"
      ],
      "text/plain": [
       "1/(6.28*I*\\rho*f - 39.4384*f**2*m + k)"
      ]
     },
     "metadata": {},
     "output_type": "display_data"
    },
    {
     "data": {
      "text/latex": [
       "$\\displaystyle \\frac{1}{6.28 i \\rho f - 39.4384 f^{2} m + k}$"
      ],
      "text/plain": [
       "1/(6.28*I*\\rho*f - 39.4384*f**2*m + k)"
      ]
     },
     "metadata": {},
     "output_type": "display_data"
    }
   ],
   "source": [
    "import matplotlib.pyplot as plt\n",
    "import numpy as np\n",
    "kv =2\n",
    "mv = 20 \n",
    "rhov = 4\n",
    "omega,f,j = sp.symbols('\\omega,f,j')\n",
    "display(TFL[0])\n",
    "TFJO = TFL[0].subs(s,sp.I*2*3.14*f)\n",
    "display(TFJO)\n",
    "#ATFJO = sp.Abs(TFJO)\n",
    "display(TFJO)"
   ]
  },
  {
   "cell_type": "code",
   "execution_count": 114,
   "id": "fba35906-cd22-422b-87bd-112980c06675",
   "metadata": {},
   "outputs": [
    {
     "data": {
      "text/latex": [
       "$\\displaystyle \\frac{1}{6.28 i \\rho f - 39.4384 f^{2} m + k}$"
      ],
      "text/plain": [
       "1/(6.28*I*\\rho*f - 39.4384*f**2*m + k)"
      ]
     },
     "metadata": {},
     "output_type": "display_data"
    },
    {
     "name": "stdout",
     "output_type": "stream",
     "text": [
      "2 20 4\n"
     ]
    },
    {
     "data": {
      "text/latex": [
       "$\\displaystyle \\frac{1}{- 788.768 f^{2} + 25.12 i f + 2}$"
      ],
      "text/plain": [
       "1/(-788.768*f**2 + 25.12*I*f + 2)"
      ]
     },
     "metadata": {},
     "output_type": "display_data"
    },
    {
     "name": "stdout",
     "output_type": "stream",
     "text": [
      "0.0012703753684407263\n"
     ]
    },
    {
     "data": {
      "text/plain": [
       "[<matplotlib.lines.Line2D at 0x211faa9b410>]"
      ]
     },
     "execution_count": 114,
     "metadata": {},
     "output_type": "execute_result"
    },
    {
     "data": {
      "image/png": "[encoded data removed]",
      "text/plain": [
       "<Figure size 640x480 with 1 Axes>"
      ]
     },
     "metadata": {},
     "output_type": "display_data"
    }
   ],
   "source": [
    "display(TFJO)\n",
    "print(kv,mv,rhov)\n",
    "TFJOV = TFJO.subs([(k,kv),(m,mv),(rho,rhov)])\n",
    "display(TFJOV)\n",
    "lam_TFJO = sp.lambdify(f,TFJOV)\n",
    "fv = np.linspace(1, 6, num=100)\n",
    "y_val = []\n",
    "for i in fv: \n",
    "    y_val.append(abs(lam_TFJO(i)))\n",
    "#print(omegav,y_val)\n",
    "print(y_val[0])\n",
    "plt.plot(omegav,y_val)"
   ]
  },
  {
   "cell_type": "markdown",
   "id": "0d590901-075f-4591-99de-0f4560aff70b",
   "metadata": {},
   "source": [
    "## Numerical Analysis ##\n",
    "Using python control library "
   ]
  },
  {
   "cell_type": "code",
   "execution_count": 118,
   "id": "bda78d5c-54f7-4d1a-8372-f02cb9359c8b",
   "metadata": {},
   "outputs": [
    {
     "data": {
      "image/png": "[encoded data removed]",
      "text/plain": [
       "<Figure size 640x480 with 1 Axes>"
      ]
     },
     "metadata": {},
     "output_type": "display_data"
    }
   ],
   "source": [
    "import numpy as np\n",
    "import matplotlib.pyplot as plt\n",
    "import scipy.signal as sig\n",
    "# Parameters defining the system\n",
    "c = 4 # Damping constant\n",
    "k = 2 # Stiffness of the spring\n",
    "m = 20 # Mass\n",
    "F = 5 # Force\n",
    "Ft = np.ones(610)*F\n",
    "# Simulation Parameters\n",
    "tstart = 0\n",
    "tstop = 60\n",
    "increment = 0.1\n",
    "t = np.arange(tstart,tstop+1,increment)\n",
    "# System matrices\n",
    "A = [[0, 1], [-k/m, -c/m]]\n",
    "B = [[0], [1/m]]\n",
    "C = [[1, 0]]\n",
    "sys = sig.StateSpace(A, B, C, 0)\n",
    "# Step response for the system\n",
    "t, y, x = sig.lsim(sys, Ft, t)\n",
    "x1 = x[:,0]\n",
    "x2 = x[:,1]\n",
    "plt.plot(t, x1, t, x2)\n",
    "#plt.plot(t, y)\n",
    "plt.title('Simulation of Mass-Spring-Damper System')\n",
    "plt.xlabel('t')\n",
    "plt.ylabel('x(t)')\n",
    "plt.grid()\n",
    "plt.show()"
   ]
  },
  {
   "cell_type": "code",
   "execution_count": null,
   "id": "3dad994e-92d2-4951-a4b8-b06c06bce9a3",
   "metadata": {},
   "outputs": [],
   "source": []
  }
 ],
 "metadata": {
  "kernelspec": {
   "display_name": "Python 3 (ipykernel)",
   "language": "python",
   "name": "python3"
  },
  "language_info": {
   "codemirror_mode": {
    "name": "ipython",
    "version": 3
   },
   "file_extension": ".py",
   "mimetype": "text/x-python",
   "name": "python",
   "nbconvert_exporter": "python",
   "pygments_lexer": "ipython3",
   "version": "3.11.4"
  }
 },
 "nbformat": 4,
 "nbformat_minor": 5
}
