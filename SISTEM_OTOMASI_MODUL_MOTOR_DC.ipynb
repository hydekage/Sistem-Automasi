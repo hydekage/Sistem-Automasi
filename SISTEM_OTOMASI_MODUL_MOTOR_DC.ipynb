{
  "nbformat": 4,
  "nbformat_minor": 0,
  "metadata": {
    "colab": {
      "provenance": [],
      "authorship_tag": "ABX9TyMrm2dF/ur1Lcjh81FXZOiT",
      "include_colab_link": true
    },
    "kernelspec": {
      "name": "python3",
      "display_name": "Python 3"
    },
    "language_info": {
      "name": "python"
    }
  },
  "cells": [
    {
      "cell_type": "markdown",
      "metadata": {
        "id": "view-in-github",
        "colab_type": "text"
      },
      "source": [
        "<a href=\"https://colab.research.google.com/github/hydekage/Sistem-Automasi/blob/master/SISTEM_OTOMASI_MODUL_MOTOR_DC.ipynb\" target=\"_parent\"><img src=\"https://colab.research.google.com/assets/colab-badge.svg\" alt=\"Open In Colab\"/></a>"
      ]
    },
    {
      "cell_type": "markdown",
      "source": [
        "#Pemodelan Motor DC\n",
        "\n",
        "![Alt text](https://www.mathworks.com/help/examples/control/win64/xxDCMotorImage.png)\n",
        "\n",
        "Pemahaman Video\n",
        "(https://www.youtube.com/watch?v=CWulQ1ZSE3c)\n",
        "\n",
        "Motor DC dapat dimodelkan dengan dua persamaan utama yang menggambarkan dynamics (dinamika) dari sistem listrik dan mekanik motor. Persamaan ini diperoleh berdasarkan Hukum Kedua Newton untuk Rotasi dan Hukum Tegangan Kirchhoff (KVL).\n",
        "\n",
        "## Persamaan Dinamiika Listrik-Kirchoff Voltage Law\n",
        "Persamaan ini diperoleh dari Hukum Tegangan Kirchhoff (KVL), yang menyatakan bahwa jumlah tegangan di sekitar suatu loop tertutup harus sama dengan nol.\n",
        "Dengan menggunakan KVL dalam loop listrik:\n",
        "\n",
        "$$\n",
        "V = L \\frac{di}{dt} + R i + e_b\n",
        "$$\n",
        "\n",
        "$𝑉=$Applied voltage\n",
        "$L=$ Armature inductance\n",
        "$R=$ Armature resistance\n",
        "$i=$ Armature current\n",
        "$𝑒_𝑏=$ Back electromotive force (EMF)\n",
        "\n",
        "Back EMF ($𝑒_𝑏$​) adalah tegangan balik yang dihasilkan oleh motor saat berputar, dan nilainya berbanding lurus dengan kecepatan sudut ($𝜔$). Secara matematis, hubungan ini dinyatakan sebagai:\n",
        "$$𝑒_𝑏=𝐾_𝑒\\frac{𝑑𝜃}{𝑑𝑡}$$\n",
        "$$𝜔=\\frac{𝑑𝜃}{𝑑𝑡}$$\n",
        "$𝐾_𝑒=$konstanta back EMF, biasanya dalam satuan V·s/rad\n",
        "$\\frac{𝑑𝜃}{𝑑𝑡}$ adalah kecepatan sudut (rad/s) dari poros motor.\n",
        "\n",
        "Semakin cepat motor berputar, semakin besar tegangan back EMF yang dihasilkan. Sehingga persamaan menjadi\n",
        "\n",
        "$$𝑉=𝐿 𝑑𝑖/𝑑𝑡+𝑅𝑖+𝑒_𝑏$$\n",
        "\n",
        "$$𝐿\\frac{𝑑𝑖}{𝑑𝑡}+𝑅𝑖=𝑉−𝐾\\frac{𝑑𝜃}{𝑑𝑡}$$\n",
        "\n",
        "\n",
        "\n"
      ],
      "metadata": {
        "id": "zbfxVsyDX_oW"
      }
    },
    {
      "cell_type": "markdown",
      "source": [
        "## Persamaan Dinamika Mekanik (Hukum Kedua Newton untuk Rotasi)\n",
        "\n",
        "Persamaan ini diperoleh dari Hukum Kedua Newton untuk Rotasi, yang menyatakan bahwa total torsi ($T$) sama dengan perubahan momentum sudut:\n",
        "$$∑𝑇=𝐽\\ddot{𝜃}$$\n",
        "$J =$ Momen inersia rotor (kg·m²), menunjukkan seberapa sulit motor untuk berakselerasi.\\\n",
        "$\\ddot{𝜃}=$ Percepatan sudut motor (rad/s²).\n"
      ],
      "metadata": {
        "id": "YsuPHG-UcErP"
      }
    },
    {
      "cell_type": "markdown",
      "source": [
        "### Persamaan Mekanik -Persamaan Torsi Motor DC\n",
        "\n",
        "Torsi yang dihasilkan oleh motor adalah:\n",
        "\n",
        "$$𝑇=𝐾_𝑡 𝑖$$    (1)\n",
        "\n",
        "Persamaan ini menyatakan bahwa torsi ($𝑇$) yang dihasilkan oleh motor DC sebanding dengan arus armatur ($𝑖$) yang mengalir melalui belitan motor.\n",
        "$𝐾_𝑡$ adalah konstanta torsi motor\" (Nm/A) yang menyatakan seberapa besar torsi yang dihasilkan untuk setiap satuan arus yang mengalir. $𝑖$ adalah Arus armatur\n",
        "\n",
        "Torsi akibat gesekan dan beban $b\\dot{𝜃}$ adalah torsi hambatan akibat gesekan viskositas yang berbanding lurus dengan kecepatan sudut $\\ddot{𝜃}$\n",
        "\n",
        "Sehingga, total persamaan torsi menjadi:\n",
        "\n",
        "$$𝐽\\ddot{𝜃}+𝑏\\dot{𝜃}=𝐾𝑖$$\n",
        "\n",
        "Percepatan sudut ($𝐽\\ddot{𝜃}$)bergantung pada arus ($i$) yang diberikan ke motor.\n",
        "\n",
        "Gesekan viskositas ($𝑏\\dot{𝜃}$) memperlambat motor.\n",
        "\n"
      ],
      "metadata": {
        "id": "vwreq8RIbhFM"
      }
    },
    {
      "cell_type": "markdown",
      "source": [
        "## Persamaan yang didapat:\n",
        "\n",
        "$$𝐿\\dot{𝐼}+𝑅𝑖=𝑉−𝐾\\dot{𝜃}$$\n",
        "\n",
        "$$𝐽\\ddot{𝜃}+𝑏\\dot{𝜃}=𝐾𝑖$$\n",
        "\n",
        "\n",
        "\n"
      ],
      "metadata": {
        "id": "5nAvmx_DfXV1"
      }
    },
    {
      "cell_type": "markdown",
      "source": [
        "## Kode Python untuk Persamaan Motor DC"
      ],
      "metadata": {
        "id": "a-fdaszZo06_"
      }
    },
    {
      "cell_type": "code",
      "source": [
        "import sympy as sp\n",
        "\n",
        "# Define symbols\n",
        "L, R, V, Ke,Kt, theta, I, doti, J, b, s, t, omega, omegadot = sp.symbols('L, R, V, K_e,K_t, \\\\theta, I, \\\\dot{i}, J, b, s, t, omega,\\\\dot{\\\\omega}')\n",
        "\n",
        "dIdt = (sp.Function('I')(t).diff(t))\n",
        "dthetadt = (sp.Function('\\\\theta')(t).diff(t))\n",
        "#display(dIdt)\n",
        "\n",
        "#eq1 = L *dIdt + R * I - V + K * dthetadt  # Electrical equation\n",
        "#eq2 = J * dthetadt**2 + b * dthetadt + K * I  # Mechanical equation\n",
        "\n",
        "eq1 = L *doti + R * I - V + Ke * omega  # Electrical equation\n",
        "eq2 = J * omegadot + b * omega + Kt * I  # Mechanical equation\n",
        "\n",
        "display(eq1)\n",
        "display(eq2)"
      ],
      "metadata": {
        "colab": {
          "base_uri": "https://localhost:8080/",
          "height": 59
        },
        "id": "GhHvvEBp-Yvo",
        "outputId": "8bf0e318-be94-4e88-953f-0cb22d738ab7"
      },
      "execution_count": 18,
      "outputs": [
        {
          "output_type": "display_data",
          "data": {
            "text/plain": [
              "I*R + K_e*omega + L*\\dot{i} - V"
            ],
            "text/latex": "$\\displaystyle I R + K_{e} \\omega + L \\dot{i} - V$"
          },
          "metadata": {}
        },
        {
          "output_type": "display_data",
          "data": {
            "text/plain": [
              "I*K_t + J*\\dot{\\omega} + b*omega"
            ],
            "text/latex": "$\\displaystyle I K_{t} + J \\dot{\\omega} + b \\omega$"
          },
          "metadata": {}
        }
      ]
    },
    {
      "cell_type": "markdown",
      "source": [
        "#Transformasi Laplace#\n",
        "## **Persamaan Awal**\n",
        "Persamaan diferensial yang akan kita ubah ke bentuk Laplace:\n",
        "\n",
        "$$\n",
        "L \\dot{I} + R I = V - K \\dot{\\theta}\n",
        "$$\n",
        "\n",
        "Di mana:\n",
        "- \\( L \\) = Induktansi armatur motor (H)\n",
        "- \\( R \\) = Resistansi armatur motor (Ω)\n",
        "- \\( I \\) = Arus armatur (A)\n",
        "- \\( V \\) = Tegangan armatur (V)\n",
        "- \\( K \\) = Konstanta motor\n",
        "- \\( $\\dot{\\theta}$ \\) = Kecepatan sudut motor (rad/s)\n",
        "\n",
        "---\n",
        "\n",
        "## **Langkah 1: Terapkan Transformasi Laplace pada Setiap Variabel**\n",
        "Transformasi Laplace membantu kita mengubah persamaan diferensial menjadi bentuk aljabar dengan variabel \\( s \\).\n",
        "\n",
        "### **Transformasi Laplace untuk Persamaan Listrik**\n",
        "Dalam **Laplace Transform**, aturan untuk turunan pertama suatu fungsi \\( f(t) \\) adalah:\n",
        "\n",
        "$$\n",
        "\\mathcal{L} \\left[ \\frac{df}{dt} \\right] = s F(s) - f(0)\n",
        "$$\n",
        "\n",
        "Kita terapkan ini pada setiap variabel:\n",
        "\n",
        "1. **Arus \\( I(t) \\)**\n",
        "   $$\n",
        "   \\mathcal{L} [\\dot{I}(t)] = s I(s) - I(0)\n",
        "   $$\n",
        "   (Di mana \\( I(0) \\) adalah kondisi awal arus, biasanya dianggap nol dalam kasus steady-state)\n",
        "\n",
        "2. **Kecepatan Sudut \\( $\\dot{\\theta}(t)$ \\)**\n",
        "   $$\n",
        "   \\mathcal{L} [\\dot{\\theta}(t)] = s \\Theta(s) - \\Theta(0)\n",
        "   $$\n",
        "   (Di mana \\( $\\Theta(0)$ \\) adalah kondisi awal posisi sudut)\n",
        "\n",
        "3. **Tegangan dan Arus Tanpa Turunan**\n",
        "   - Karena \\( V(t) \\) dan \\( I(t) \\) **tanpa turunan**, transformasi Laplace-nya hanya:\n",
        "     $$\n",
        "     \\mathcal{L} [I(t)] = I(s), \\quad \\mathcal{L} [V(t)] = V(s)\n",
        "     $$\n",
        "\n",
        "---\n",
        "\n",
        "## **Langkah 2: Substitusi ke dalam Persamaan**\n",
        "Sekarang kita terapkan hasil transformasi Laplace ke dalam persamaan awal:\n",
        "\n",
        "$$\n",
        "L \\dot{I} + R I = V - K \\dot{\\theta}\n",
        "$$\n",
        "\n",
        "Menjadi:\n",
        "\n",
        "$$\n",
        "L (s I(s) - I(0)) + R I(s) = V(s) - K (s \\Theta(s) - \\Theta(0))\n",
        "$$\n",
        "\n",
        "---\n",
        "\n",
        "## **Langkah 3: Sederhanakan**\n",
        "Jika kondisi awal dianggap nol (\\( I(0) = 0 \\), \\( $\\Theta(0)$ = 0 \\)), maka persamaan menjadi:\n",
        "\n",
        "$$\n",
        "L s I(s) + R I(s) = V(s) - K s \\Theta(s)\n",
        "$$\n",
        "\n",
        "Atau dengan memfaktorkan \\( I(s) \\):\n",
        "\n",
        "$$\n",
        "(Ls + R) I(s) = V(s) - K s \\Theta(s)\n",
        "$$\n",
        "\n",
        "---\n",
        "\n",
        "## **Kesimpulan**\n",
        "Jadi, persamaan dalam bentuk **Laplace Transform** adalah:\n",
        "\n",
        "$$\n",
        "(Ls + R) I(s) = V(s) - K s \\Theta(s)\n",
        "$$\n",
        "\n",
        "Dengan bentuk ini, kita bisa dengan mudah menghubungkan variabel-variabel listrik dan mekanik untuk analisis kontrol atau mencari **fungsi alih (transfer function)**.\n"
      ],
      "metadata": {
        "id": "wHTYkNA3hWyV"
      }
    },
    {
      "cell_type": "markdown",
      "source": [
        "## **Transformasi Laplace untuk Persamaan Mekanik**\n",
        "\n",
        "Persamaan diferensial untuk dinamika rotasi:\n",
        "\n",
        "$$\n",
        "J \\ddot{\\theta} + b \\dot{\\theta} = K i\n",
        "$$\n",
        "\n",
        "Di mana:\n",
        "- \\( J \\) = Momen inersia rotor (kg·m²)\n",
        "- \\( b \\) = Koefisien gesekan (N·m·s/rad)\n",
        "- \\( $\\ddot{\\theta}$ \\) = Percepatan sudut (rad/s²)\n",
        "- \\( $\\dot{\\theta}$ \\) = Kecepatan sudut (rad/s)\n",
        "- \\( K \\) = Konstanta motor\n",
        "- \\( i \\) = Arus armatur (A)\n",
        "\n",
        "### **Langkah 1: Terapkan Transformasi Laplace**\n",
        "\n",
        "Transformasi Laplace untuk turunan kedua:\n",
        "\n",
        "$$\n",
        "\\mathcal{L} [\\ddot{\\theta}(t)] = s^2 \\Theta(s) - s \\Theta(0) - \\dot{\\Theta}(0)\n",
        "$$\n",
        "\n",
        "Transformasi Laplace untuk turunan pertama:\n",
        "\n",
        "$$\n",
        "\\mathcal{L} [\\dot{\\theta}(t)] = s \\Theta(s) - \\Theta(0)\n",
        "$$\n",
        "\n",
        "### **Langkah 2: Substitusi ke dalam Persamaan**\n",
        "\n",
        "Dengan menganggap kondisi awal nol (\\( \\Theta(0) = 0 \\), \\( \\dot{\\Theta}(0) = 0 \\)):\n",
        "\n",
        "$$\n",
        "J (s^2 \\Theta(s)) + b (s \\Theta(s)) = K I(s)\n",
        "$$\n",
        "\n",
        "Faktorkan \\( \\Theta(s) \\):\n",
        "\n",
        "$$\n",
        "(Js^2 + b s) \\Theta(s) = K I(s)\n",
        "$$\n",
        "\n",
        "---\n",
        "\n",
        "## **Kesimpulan**\n",
        "\n",
        "Jadi, persamaan dalam bentuk **Laplace Transform** untuk sistem mekanik adalah:\n",
        "\n",
        "$$\n",
        "(Js^2 + b s) \\Theta(s) = K I(s)\n",
        "$$\n",
        "\n",
        "Dengan bentuk ini, kita bisa dengan mudah menghubungkan variabel-variabel listrik dan mekanik untuk analisis kontrol atau mencari **fungsi alih (transfer function)**.\n"
      ],
      "metadata": {
        "id": "WB5R-uA4kVON"
      }
    },
    {
      "cell_type": "markdown",
      "source": [
        "##Kode Python - Transformasi Laplace"
      ],
      "metadata": {
        "id": "BvILy3F9pDoA"
      }
    },
    {
      "cell_type": "code",
      "source": [
        "laplace_expr = sp.laplace_transform(eq1, t, s, noconds=True)\n",
        "laplace_expr2 = sp.laplace_transform(eq2, t, s, noconds=True)\n",
        "display(laplace_expr.simplify())\n",
        "display(laplace_expr2.simplify())"
      ],
      "metadata": {
        "colab": {
          "base_uri": "https://localhost:8080/",
          "height": 90
        },
        "id": "0s6o8sM0pKNO",
        "outputId": "d97588fe-678b-44cd-d4c8-41c747e5d327"
      },
      "execution_count": 19,
      "outputs": [
        {
          "output_type": "display_data",
          "data": {
            "text/plain": [
              "(I*R + K_e*omega + L*\\dot{i} - V)/s"
            ],
            "text/latex": "$\\displaystyle \\frac{I R + K_{e} \\omega + L \\dot{i} - V}{s}$"
          },
          "metadata": {}
        },
        {
          "output_type": "display_data",
          "data": {
            "text/plain": [
              "(I*K_t + J*\\dot{\\omega} + b*omega)/s"
            ],
            "text/latex": "$\\displaystyle \\frac{I K_{t} + J \\dot{\\omega} + b \\omega}{s}$"
          },
          "metadata": {}
        }
      ]
    },
    {
      "cell_type": "markdown",
      "source": [
        "##Fungsi Alih - Transfer Function\n",
        "\n",
        "Transfer function adalah cara untuk melihat bagaimana suatu sistem merespons input dan menghasilkan output.\n",
        "\n",
        "Dalam kasus motor listrik, kita ingin mengetahui bagaimana tegangan listrik ($𝑉$) yang diberikan mempengaruhi kecepatan putaran motor ($𝜃$)\n",
        "\n",
        "..To Be Continued\n"
      ],
      "metadata": {
        "id": "gAIZbrpVgeTe"
      }
    },
    {
      "cell_type": "code",
      "source": [
        "display(eq1)\n",
        "display(eq2)"
      ],
      "metadata": {
        "id": "lv452OwhbcxJ",
        "colab": {
          "base_uri": "https://localhost:8080/",
          "height": 59
        },
        "outputId": "867481c4-e3aa-4250-958b-9e993ede31b6"
      },
      "execution_count": 20,
      "outputs": [
        {
          "output_type": "display_data",
          "data": {
            "text/plain": [
              "I*R + K_e*omega + L*\\dot{i} - V"
            ],
            "text/latex": "$\\displaystyle I R + K_{e} \\omega + L \\dot{i} - V$"
          },
          "metadata": {}
        },
        {
          "output_type": "display_data",
          "data": {
            "text/plain": [
              "I*K_t + J*\\dot{\\omega} + b*omega"
            ],
            "text/latex": "$\\displaystyle I K_{t} + J \\dot{\\omega} + b \\omega$"
          },
          "metadata": {}
        }
      ]
    },
    {
      "cell_type": "markdown",
      "source": [
        "## Kode untuk mencari solusi $\\dot{\\omega}$ dan $\\dot{i}$"
      ],
      "metadata": {
        "id": "bK7y0sNk7a-2"
      }
    },
    {
      "cell_type": "code",
      "source": [
        "#display(dIdt)\n",
        "#display(dthetadt)\n",
        "sol = sp.solve((eq1,eq2),(doti,omegadot),Dict=True)\n",
        "#print(sol)\n",
        "display(sol[doti])\n",
        "display(sol[omegadot])"
      ],
      "metadata": {
        "colab": {
          "base_uri": "https://localhost:8080/",
          "height": 86
        },
        "id": "rN4geUcoeSzX",
        "outputId": "48e50c21-931f-4d6d-91d4-3b151ab25556"
      },
      "execution_count": 21,
      "outputs": [
        {
          "output_type": "display_data",
          "data": {
            "text/plain": [
              "(-I*R - K_e*omega + V)/L"
            ],
            "text/latex": "$\\displaystyle \\frac{- I R - K_{e} \\omega + V}{L}$"
          },
          "metadata": {}
        },
        {
          "output_type": "display_data",
          "data": {
            "text/plain": [
              "(-I*K_t - b*omega)/J"
            ],
            "text/latex": "$\\displaystyle \\frac{- I K_{t} - b \\omega}{J}$"
          },
          "metadata": {}
        }
      ]
    },
    {
      "cell_type": "markdown",
      "source": [
        "## Solusi untuk mengambil koefisien $\\omega$ dan $I$ dan $V$ untuk mendapatkan matrix $A$, dan $B$ pada persamaan state space"
      ],
      "metadata": {
        "id": "N5VGD8qg7qlV"
      }
    },
    {
      "cell_type": "code",
      "source": [
        "baris1 = sp.poly(sol[doti],(I,omega,V)).as_dict()\n",
        "baris2 = sp.poly(sol[omegadot],(I,omega,V)).as_dict()\n",
        "print(baris1)\n",
        "print(baris2)\n",
        "#print(baris2[0,0,0])"
      ],
      "metadata": {
        "id": "apQEFYb1aK5d",
        "colab": {
          "base_uri": "https://localhost:8080/"
        },
        "outputId": "daf7ba6d-3ad5-40c4-8417-c74d91ae53c9"
      },
      "execution_count": 22,
      "outputs": [
        {
          "output_type": "stream",
          "name": "stdout",
          "text": [
            "{(0, 0, 1): 1/L, (0, 1, 0): -K_e/L, (1, 0, 0): -R/L}\n",
            "{(0, 1, 0): -b/J, (1, 0, 0): -K_t/J}\n"
          ]
        }
      ]
    },
    {
      "cell_type": "markdown",
      "source": [
        "## Solusi dalam membuat matrix A, B, C"
      ],
      "metadata": {
        "id": "Q1S6YBaI79YK"
      }
    },
    {
      "cell_type": "code",
      "source": [
        "A_Row_1 = (baris1[1,0,0],baris1[0,1,0])\n",
        "A_Row_2 = (baris2[1,0,0],baris2[0,1,0])\n",
        "A  = sp.Matrix([A_Row_1,A_Row_2])\n",
        "display('A:',A)\n",
        "B_Row_1 = (baris1[0,0,1])\n",
        "B_Row_2 = (0)\n",
        "B = sp.Matrix([B_Row_1,B_Row_2])\n",
        "display('B:',B)"
      ],
      "metadata": {
        "colab": {
          "base_uri": "https://localhost:8080/",
          "height": 138
        },
        "id": "CoaWfwCG3mdx",
        "outputId": "7f8fbd75-a180-4b9b-cfcf-8de5e8cbe885"
      },
      "execution_count": 23,
      "outputs": [
        {
          "output_type": "display_data",
          "data": {
            "text/plain": [
              "'A:'"
            ],
            "application/vnd.google.colaboratory.intrinsic+json": {
              "type": "string"
            }
          },
          "metadata": {}
        },
        {
          "output_type": "display_data",
          "data": {
            "text/plain": [
              "Matrix([\n",
              "[  -R/L, -K_e/L],\n",
              "[-K_t/J,   -b/J]])"
            ],
            "text/latex": "$\\displaystyle \\left[\\begin{matrix}- \\frac{R}{L} & - \\frac{K_{e}}{L}\\\\- \\frac{K_{t}}{J} & - \\frac{b}{J}\\end{matrix}\\right]$"
          },
          "metadata": {}
        },
        {
          "output_type": "display_data",
          "data": {
            "text/plain": [
              "'B:'"
            ],
            "application/vnd.google.colaboratory.intrinsic+json": {
              "type": "string"
            }
          },
          "metadata": {}
        },
        {
          "output_type": "display_data",
          "data": {
            "text/plain": [
              "Matrix([\n",
              "[1/L],\n",
              "[  0]])"
            ],
            "text/latex": "$\\displaystyle \\left[\\begin{matrix}\\frac{1}{L}\\\\0\\end{matrix}\\right]$"
          },
          "metadata": {}
        }
      ]
    },
    {
      "cell_type": "code",
      "source": [
        "C = sp.Matrix([(1,0),(0,1)])\n",
        "display('C:',C)"
      ],
      "metadata": {
        "id": "sLnZML_3480p",
        "colab": {
          "base_uri": "https://localhost:8080/",
          "height": 76
        },
        "outputId": "dfec0617-f450-4eeb-9a62-3e07b8799bba"
      },
      "execution_count": 24,
      "outputs": [
        {
          "output_type": "display_data",
          "data": {
            "text/plain": [
              "'C:'"
            ],
            "application/vnd.google.colaboratory.intrinsic+json": {
              "type": "string"
            }
          },
          "metadata": {}
        },
        {
          "output_type": "display_data",
          "data": {
            "text/plain": [
              "Matrix([\n",
              "[1, 0],\n",
              "[0, 1]])"
            ],
            "text/latex": "$\\displaystyle \\left[\\begin{matrix}1 & 0\\\\0 & 1\\end{matrix}\\right]$"
          },
          "metadata": {}
        }
      ]
    },
    {
      "cell_type": "code",
      "source": [
        "s = sp.Symbol('s')\n",
        "I = sp.eye(A.shape[0])\n",
        "display(I)\n",
        "inv_M=(I*s - A).inv()\n",
        "display(inv_M)\n",
        "TFL = C*inv_M*B\n",
        "display(\"Transfer Function  didapatkan:\",TFL)"
      ],
      "metadata": {
        "colab": {
          "base_uri": "https://localhost:8080/",
          "height": 178
        },
        "id": "ih86Yl9q_qIS",
        "outputId": "376ff7d9-42ad-4e21-d8fc-56fd24b337e2"
      },
      "execution_count": 25,
      "outputs": [
        {
          "output_type": "display_data",
          "data": {
            "text/plain": [
              "Matrix([\n",
              "[1, 0],\n",
              "[0, 1]])"
            ],
            "text/latex": "$\\displaystyle \\left[\\begin{matrix}1 & 0\\\\0 & 1\\end{matrix}\\right]$"
          },
          "metadata": {}
        },
        {
          "output_type": "display_data",
          "data": {
            "text/plain": [
              "Matrix([\n",
              "[(J*L*s + L*b)/(J*L*s**2 + J*R*s - K_e*K_t + L*b*s + R*b),        -J*K_e/(J*L*s**2 + J*R*s - K_e*K_t + L*b*s + R*b)],\n",
              "[       -K_t*L/(J*L*s**2 + J*R*s - K_e*K_t + L*b*s + R*b), (J*L*s + J*R)/(J*L*s**2 + J*R*s - K_e*K_t + L*b*s + R*b)]])"
            ],
            "text/latex": "$\\displaystyle \\left[\\begin{matrix}\\frac{J L s + L b}{J L s^{2} + J R s - K_{e} K_{t} + L b s + R b} & - \\frac{J K_{e}}{J L s^{2} + J R s - K_{e} K_{t} + L b s + R b}\\\\- \\frac{K_{t} L}{J L s^{2} + J R s - K_{e} K_{t} + L b s + R b} & \\frac{J L s + J R}{J L s^{2} + J R s - K_{e} K_{t} + L b s + R b}\\end{matrix}\\right]$"
          },
          "metadata": {}
        },
        {
          "output_type": "display_data",
          "data": {
            "text/plain": [
              "'Transfer Function  didapatkan:'"
            ],
            "application/vnd.google.colaboratory.intrinsic+json": {
              "type": "string"
            }
          },
          "metadata": {}
        },
        {
          "output_type": "display_data",
          "data": {
            "text/plain": [
              "Matrix([\n",
              "[(J*L*s + L*b)/(L*(J*L*s**2 + J*R*s - K_e*K_t + L*b*s + R*b))],\n",
              "[             -K_t/(J*L*s**2 + J*R*s - K_e*K_t + L*b*s + R*b)]])"
            ],
            "text/latex": "$\\displaystyle \\left[\\begin{matrix}\\frac{J L s + L b}{L \\left(J L s^{2} + J R s - K_{e} K_{t} + L b s + R b\\right)}\\\\- \\frac{K_{t}}{J L s^{2} + J R s - K_{e} K_{t} + L b s + R b}\\end{matrix}\\right]$"
          },
          "metadata": {}
        }
      ]
    },
    {
      "cell_type": "code",
      "source": [
        "display(TFL[0])"
      ],
      "metadata": {
        "colab": {
          "base_uri": "https://localhost:8080/",
          "height": 56
        },
        "id": "jnk8SSBl__A0",
        "outputId": "8137d5ff-ec7e-4de9-ee96-e55af882a647"
      },
      "execution_count": 26,
      "outputs": [
        {
          "output_type": "display_data",
          "data": {
            "text/plain": [
              "(J*L*s + L*b)/(L*(J*L*s**2 + J*R*s - K_e*K_t + L*b*s + R*b))"
            ],
            "text/latex": "$\\displaystyle \\frac{J L s + L b}{L \\left(J L s^{2} + J R s - K_{e} K_{t} + L b s + R b\\right)}$"
          },
          "metadata": {}
        }
      ]
    },
    {
      "cell_type": "code",
      "source": [
        "display(TFL[1])"
      ],
      "metadata": {
        "colab": {
          "base_uri": "https://localhost:8080/",
          "height": 54
        },
        "id": "hwGqFinpADBc",
        "outputId": "dc553dd8-8188-4e84-d84a-6c6c1732c987"
      },
      "execution_count": 27,
      "outputs": [
        {
          "output_type": "display_data",
          "data": {
            "text/plain": [
              "-K_t/(J*L*s**2 + J*R*s - K_e*K_t + L*b*s + R*b)"
            ],
            "text/latex": "$\\displaystyle - \\frac{K_{t}}{J L s^{2} + J R s - K_{e} K_{t} + L b s + R b}$"
          },
          "metadata": {}
        }
      ]
    },
    {
      "cell_type": "code",
      "source": [
        "##from sympy.abc import s\n",
        "#from sympy.physics.control.lti import TransferFunction\n",
        "#from sympy.physics.control.control_plots import bode_plot\n",
        "\n",
        "#n0,d0 = sp.fraction(TFL[0])\n",
        "#n1,d1 = sp.fraction(TFL[1])\n",
        "\n",
        "#tf1 = TransferFunction(n0,d0,s)\n",
        "#bode_plot(tf1, initial_exp=0.2, final_exp=0.7)"
      ],
      "metadata": {
        "id": "dzIvn5e8FInL"
      },
      "execution_count": 39,
      "outputs": []
    },
    {
      "cell_type": "code",
      "source": [
        "TFJO_0 = TFL[0].subs(s,sp.I*omega)\n",
        "TFJO_1 = TFL[1].subs(s,sp.I*omega)\n",
        "display(TFJO_0)\n",
        "display(TFJO_1)"
      ],
      "metadata": {
        "colab": {
          "base_uri": "https://localhost:8080/",
          "height": 93
        },
        "id": "nwtXT4TgAElc",
        "outputId": "382c7b4e-8cc5-4e4f-d5c5-f90bf3fa612c"
      },
      "execution_count": 29,
      "outputs": [
        {
          "output_type": "display_data",
          "data": {
            "text/plain": [
              "(I*J*L*omega + L*b)/(L*(-J*L*omega**2 + I*J*R*omega - K_e*K_t + I*L*b*omega + R*b))"
            ],
            "text/latex": "$\\displaystyle \\frac{i J L \\omega + L b}{L \\left(- J L \\omega^{2} + i J R \\omega - K_{e} K_{t} + i L b \\omega + R b\\right)}$"
          },
          "metadata": {}
        },
        {
          "output_type": "display_data",
          "data": {
            "text/plain": [
              "-K_t/(-J*L*omega**2 + I*J*R*omega - K_e*K_t + I*L*b*omega + R*b)"
            ],
            "text/latex": "$\\displaystyle - \\frac{K_{t}}{- J L \\omega^{2} + i J R \\omega - K_{e} K_{t} + i L b \\omega + R b}$"
          },
          "metadata": {}
        }
      ]
    },
    {
      "cell_type": "code",
      "source": [],
      "metadata": {
        "id": "cpedMMO9EAYq"
      },
      "execution_count": null,
      "outputs": []
    }
  ]
}