{
  "cells": [
    {
      "cell_type": "markdown",
      "metadata": {
        "id": "view-in-github",
        "colab_type": "text"
      },
      "source": [
        "<a href=\"https://colab.research.google.com/github/hydekage/Sistem-Automasi/blob/master/SISTEM_OTOMASI_MODUL_RLC.ipynb\" target=\"_parent\"><img src=\"https://colab.research.google.com/assets/colab-badge.svg\" alt=\"Open In Colab\"/></a>"
      ]
    },
    {
      "cell_type": "markdown",
      "id": "59aa7e6e-b18a-4706-8f71-823038755252",
      "metadata": {
        "id": "59aa7e6e-b18a-4706-8f71-823038755252"
      },
      "source": [
        "## Contoh Perhitungan Transfer Function/Fungsi Alih MK SISTEM KENDALI ##\n",
        "\n",
        "### Pemodelan Pada Rangkaian Listrik ###\n",
        "\n",
        "Pelajari file tersebut: <B>[my link](file:///RLCTF.pdf)</B>\n",
        "\n",
        "<img src=\"https://github.com/hydekage/Sistem-Automasi/blob/master/img/circuit.jpg?raw=1\"><BR>\n",
        "Pada gambar diatas, bagaimana cara kita memodelkan teganan pada beban $R$ ($V_R$)?\n",
        "<BR>Berdasarkan hukum Ohm: $V=iR$</BR>\n",
        "<BR>Berdasarkan hukum Faraday: $V_L=L\\frac{d_i}{dt}$\n",
        "<BR>Berdasarkan hukum Kirchoff:$V_s=V_r+V_L$ </BR>\n",
        "\n",
        "Diketahui:\n",
        "$${A} = \\begin{bmatrix} {0} & \\frac{1}{C}\\\\ -\\frac{1}{C} & -\\frac{R}{L}\\end{bmatrix}$$\n",
        "$${B} = \\begin{bmatrix} {0}\\\\{\\frac{1}{L}}\\end{bmatrix}$$\n",
        "$${C} = \\begin{bmatrix} 1 & 0\\\\ 0 & 1\\end{bmatrix}$$\n",
        "$${D} = 0 $$\n",
        "Hitung:\n",
        "$$\\frac{Y(s)}{U(s)} = {C[sI−A]^{−1}}B+D $$\n",
        "\n"
      ]
    },
    {
      "cell_type": "code",
      "execution_count": 16,
      "id": "8d66aa7b-e620-4d09-b7a7-9415c91d47d6",
      "metadata": {
        "id": "8d66aa7b-e620-4d09-b7a7-9415c91d47d6"
      },
      "outputs": [],
      "source": [
        "import sympy as sp\n",
        "C,L, R, omega = sp.symbols(r'C,L,R,omega')"
      ]
    },
    {
      "cell_type": "code",
      "execution_count": 3,
      "id": "396c5652-6df8-4338-a7ca-de8f58f31e22",
      "metadata": {
        "colab": {
          "base_uri": "https://localhost:8080/",
          "height": 163
        },
        "id": "396c5652-6df8-4338-a7ca-de8f58f31e22",
        "outputId": "c9873df1-af45-4f06-c4c0-cea6c2558f13"
      },
      "outputs": [
        {
          "output_type": "stream",
          "name": "stdout",
          "text": [
            "Persamaan V_r:\n"
          ]
        },
        {
          "output_type": "display_data",
          "data": {
            "text/plain": [
              "R*i"
            ],
            "text/latex": "$\\displaystyle R i$"
          },
          "metadata": {}
        },
        {
          "output_type": "stream",
          "name": "stdout",
          "text": [
            "Persamaan V_L:\n"
          ]
        },
        {
          "output_type": "display_data",
          "data": {
            "text/plain": [
              "L*Derivative(i(t), t)"
            ],
            "text/latex": "$\\displaystyle L \\frac{d}{d t} i{\\left(t \\right)}$"
          },
          "metadata": {}
        },
        {
          "output_type": "stream",
          "name": "stdout",
          "text": [
            "Persamaan V_L+V_r-Vs=0:\n"
          ]
        },
        {
          "output_type": "display_data",
          "data": {
            "text/plain": [
              "L*Derivative(i(t), t) + R*i - V_s"
            ],
            "text/latex": "$\\displaystyle L \\frac{d}{d t} i{\\left(t \\right)} + R i - V_{s}$"
          },
          "metadata": {}
        }
      ],
      "source": [
        "i, vs, t = sp.symbols('i,V_s, t')\n",
        "id = (sp.Function('i')(t).diff(t))\n",
        "vr = i*R\n",
        "print(\"Persamaan V_r:\")\n",
        "display(vr)\n",
        "vl = L*id\n",
        "print(\"Persamaan V_L:\")\n",
        "display(vl)\n",
        "EQ = -vs+vr+vl\n",
        "print(\"Persamaan V_L+V_r-Vs=0:\")\n",
        "display(EQ)"
      ]
    },
    {
      "cell_type": "code",
      "source": [
        "eqsolve = sp.solve(EQ,id)\n",
        "print(eqsolve)\n",
        "display(eqsolve[0])\n",
        "display(1/C)"
      ],
      "metadata": {
        "colab": {
          "base_uri": "https://localhost:8080/",
          "height": 104
        },
        "id": "bEYTjzoK598x",
        "outputId": "a38ecc4e-f84e-4314-eb05-8361108021fa"
      },
      "id": "bEYTjzoK598x",
      "execution_count": 4,
      "outputs": [
        {
          "output_type": "stream",
          "name": "stdout",
          "text": [
            "[(-R*i + V_s)/L]\n"
          ]
        },
        {
          "output_type": "display_data",
          "data": {
            "text/plain": [
              "(-R*i + V_s)/L"
            ],
            "text/latex": "$\\displaystyle \\frac{- R i + V_{s}}{L}$"
          },
          "metadata": {}
        },
        {
          "output_type": "display_data",
          "data": {
            "text/plain": [
              "1/C"
            ],
            "text/latex": "$\\displaystyle \\frac{1}{C}$"
          },
          "metadata": {}
        }
      ]
    },
    {
      "cell_type": "code",
      "execution_count": 11,
      "id": "6be2c39e-5511-4b4b-9fa2-9a74665985f2",
      "metadata": {
        "colab": {
          "base_uri": "https://localhost:8080/",
          "height": 232
        },
        "id": "6be2c39e-5511-4b4b-9fa2-9a74665985f2",
        "outputId": "ef05068e-861b-4d60-a9c7-6ae103b8adf3"
      },
      "outputs": [
        {
          "output_type": "display_data",
          "data": {
            "text/plain": [
              "'Matrix A:'"
            ],
            "application/vnd.google.colaboratory.intrinsic+json": {
              "type": "string"
            }
          },
          "metadata": {}
        },
        {
          "output_type": "display_data",
          "data": {
            "text/plain": [
              "Matrix([\n",
              "[   0,  1/C],\n",
              "[-1/L, -R/L]])"
            ],
            "text/latex": "$\\displaystyle \\left[\\begin{matrix}0 & \\frac{1}{C}\\\\- \\frac{1}{L} & - \\frac{R}{L}\\end{matrix}\\right]$"
          },
          "metadata": {}
        },
        {
          "output_type": "stream",
          "name": "stdout",
          "text": [
            "\n",
            "\n"
          ]
        },
        {
          "output_type": "display_data",
          "data": {
            "text/plain": [
              "'Matrix B:'"
            ],
            "application/vnd.google.colaboratory.intrinsic+json": {
              "type": "string"
            }
          },
          "metadata": {}
        },
        {
          "output_type": "display_data",
          "data": {
            "text/plain": [
              "Matrix([\n",
              "[  0],\n",
              "[1/L]])"
            ],
            "text/latex": "$\\displaystyle \\left[\\begin{matrix}0\\\\\\frac{1}{L}\\end{matrix}\\right]$"
          },
          "metadata": {}
        },
        {
          "output_type": "display_data",
          "data": {
            "text/plain": [
              "'Matrix C:'"
            ],
            "application/vnd.google.colaboratory.intrinsic+json": {
              "type": "string"
            }
          },
          "metadata": {}
        },
        {
          "output_type": "display_data",
          "data": {
            "text/plain": [
              "Matrix([\n",
              "[1, 0],\n",
              "[0, 1]])"
            ],
            "text/latex": "$\\displaystyle \\left[\\begin{matrix}1 & 0\\\\0 & 1\\end{matrix}\\right]$"
          },
          "metadata": {}
        }
      ],
      "source": [
        "A_Row_1 = (0,1/C)\n",
        "A_Row_2 = (-1/L,-R/L)\n",
        "A  = sp.Matrix([A_Row_1,A_Row_2])\n",
        "display('Matrix A:',A)\n",
        "print(\"\\n\")\n",
        "B_Row_1 = (0)\n",
        "B_Row_2 = (1/L)\n",
        "B = sp.Matrix([B_Row_1,B_Row_2])\n",
        "display('Matrix B:',B)\n",
        "C_Row_1 = (1,0)\n",
        "C_Row_2 = (0,1)\n",
        "C_matrix = sp.Matrix([C_Row_1,C_Row_2])\n",
        "display('Matrix C:',C_matrix)"
      ]
    },
    {
      "cell_type": "markdown",
      "id": "ec84415d-63a9-4a07-9417-1746d0af9b55",
      "metadata": {
        "id": "ec84415d-63a9-4a07-9417-1746d0af9b55"
      },
      "source": [
        "Masukkan ke Rumus:\n",
        "\n",
        "$$\\frac{Y(s)}{U(s)} = {C[sI−A]^{−1}}B+D $$"
      ]
    },
    {
      "cell_type": "code",
      "execution_count": 13,
      "id": "2ace4420-8b91-4b50-8c91-0df8e1233a39",
      "metadata": {
        "colab": {
          "base_uri": "https://localhost:8080/",
          "height": 87
        },
        "id": "2ace4420-8b91-4b50-8c91-0df8e1233a39",
        "outputId": "33ed7ef4-f7b4-4798-cf27-87d7389a8a3b"
      },
      "outputs": [
        {
          "output_type": "display_data",
          "data": {
            "text/plain": [
              "'Transfer Function  didapatkan:'"
            ],
            "application/vnd.google.colaboratory.intrinsic+json": {
              "type": "string"
            }
          },
          "metadata": {}
        },
        {
          "output_type": "display_data",
          "data": {
            "text/plain": [
              "Matrix([\n",
              "[     C/(C*L*s**2 + C*R*s + 1)],\n",
              "[C**2*s/(C*L*s**2 + C*R*s + 1)]])"
            ],
            "text/latex": "$\\displaystyle \\left[\\begin{matrix}\\frac{C}{C L s^{2} + C R s + 1}\\\\\\frac{C^{2} s}{C L s^{2} + C R s + 1}\\end{matrix}\\right]$"
          },
          "metadata": {}
        }
      ],
      "source": [
        "s = sp.Symbol('s')\n",
        "I = sp.eye(A.shape[0])\n",
        "#display(I)\n",
        "inv_M=(I*s - A).inv()\n",
        "#display(inv_M)\n",
        "TFL = C*inv_M*B\n",
        "display(\"Transfer Function  didapatkan:\",TFL)"
      ]
    },
    {
      "cell_type": "code",
      "execution_count": 9,
      "id": "913ae10b-2f9a-407c-83a3-273e0c6dd50a",
      "metadata": {
        "id": "913ae10b-2f9a-407c-83a3-273e0c6dd50a",
        "outputId": "fe3eca5b-8e4f-4259-9071-6cec83e6d33b",
        "colab": {
          "base_uri": "https://localhost:8080/",
          "height": 94
        }
      },
      "outputs": [
        {
          "output_type": "display_data",
          "data": {
            "text/plain": [
              "C**2/(C**2*L*s**2 + C**2*R*s + L)"
            ],
            "text/latex": "$\\displaystyle \\frac{C^{2}}{C^{2} L s^{2} + C^{2} R s + L}$"
          },
          "metadata": {}
        },
        {
          "output_type": "display_data",
          "data": {
            "text/plain": [
              "C**3*s/(C**2*L*s**2 + C**2*R*s + L)"
            ],
            "text/latex": "$\\displaystyle \\frac{C^{3} s}{C^{2} L s^{2} + C^{2} R s + L}$"
          },
          "metadata": {}
        }
      ],
      "source": [
        "display(TFL[0])\n",
        "display(TFL[1])"
      ]
    },
    {
      "cell_type": "code",
      "source": [
        "TF_VC = TFL[0].subs(s,sp.I*omega)\n",
        "display(TF_VC)\n",
        "TF_I = TFL[1].subs(s,sp.I*omega)\n",
        "display(TF_I)"
      ],
      "metadata": {
        "id": "0bcjih_69Hmm",
        "outputId": "f3c6802d-dd7e-4302-ef22-2934fcb8ce7f",
        "colab": {
          "base_uri": "https://localhost:8080/",
          "height": 91
        }
      },
      "id": "0bcjih_69Hmm",
      "execution_count": 20,
      "outputs": [
        {
          "output_type": "display_data",
          "data": {
            "text/plain": [
              "C/(-C*L*omega**2 + I*C*R*omega + 1)"
            ],
            "text/latex": "$\\displaystyle \\frac{C}{- C L \\omega^{2} + i C R \\omega + 1}$"
          },
          "metadata": {}
        },
        {
          "output_type": "display_data",
          "data": {
            "text/plain": [
              "I*C**2*omega/(-C*L*omega**2 + I*C*R*omega + 1)"
            ],
            "text/latex": "$\\displaystyle \\frac{i C^{2} \\omega}{- C L \\omega^{2} + i C R \\omega + 1}$"
          },
          "metadata": {}
        }
      ]
    },
    {
      "cell_type": "code",
      "source": [
        "TF_VC_abs = sp.Abs(TF_VC)\n",
        "display(TF_VC_abs)\n",
        "TF_VC_arg = sp.Abs(TF_VC)\n",
        "display(TF_VC_arg)"
      ],
      "metadata": {
        "id": "OojMiwwhBVh9",
        "outputId": "9fc48115-4985-47bf-f720-d45334b1a860",
        "colab": {
          "base_uri": "https://localhost:8080/",
          "height": 98
        }
      },
      "id": "OojMiwwhBVh9",
      "execution_count": 22,
      "outputs": [
        {
          "output_type": "display_data",
          "data": {
            "text/plain": [
              "Abs(C/(-C*L*omega**2 + I*C*R*omega + 1))"
            ],
            "text/latex": "$\\displaystyle \\left|{\\frac{C}{- C L \\omega^{2} + i C R \\omega + 1}}\\right|$"
          },
          "metadata": {}
        },
        {
          "output_type": "display_data",
          "data": {
            "text/plain": [
              "Abs(C/(-C*L*omega**2 + I*C*R*omega + 1))"
            ],
            "text/latex": "$\\displaystyle \\left|{\\frac{C}{- C L \\omega^{2} + i C R \\omega + 1}}\\right|$"
          },
          "metadata": {}
        }
      ]
    },
    {
      "cell_type": "code",
      "source": [
        "TF_VC_func = sp.lambdify([C,L, R, omega],TF_VC_abs)"
      ],
      "metadata": {
        "id": "FewG7uWwCsQm"
      },
      "id": "FewG7uWwCsQm",
      "execution_count": 37,
      "outputs": []
    },
    {
      "cell_type": "code",
      "source": [
        "print(TF_VC_func(1e-6,10e-6,10,2*3.14*50))"
      ],
      "metadata": {
        "id": "I0sVE3b4C9CV",
        "outputId": "b3e98b0c-312a-4f87-dbdc-cb0837b43f38",
        "colab": {
          "base_uri": "https://localhost:8080/"
        }
      },
      "id": "I0sVE3b4C9CV",
      "execution_count": 38,
      "outputs": [
        {
          "output_type": "stream",
          "name": "stdout",
          "text": [
            "9.999960561828444e-07\n"
          ]
        }
      ]
    },
    {
      "cell_type": "code",
      "source": [
        "import numpy as np\n",
        "import matplotlib.pyplot as plt\n",
        "\n",
        "x_value = np.linspace(1,100e3,100)\n",
        "y_value = []\n",
        "for i in x_value:\n",
        "    y_value.append(TF_VC_func(1e-6,10e-6,10,2*3.14*i))\n",
        "#print(y_value)\n",
        "plt.plot(x_value,y_value)\n",
        "plt.show()"
      ],
      "metadata": {
        "id": "0ssiviT8D8sE",
        "outputId": "d567c184-4fcf-4c53-d2c0-27f9d0da0140",
        "colab": {
          "base_uri": "https://localhost:8080/",
          "height": 445
        }
      },
      "id": "0ssiviT8D8sE",
      "execution_count": 40,
      "outputs": [
        {
          "output_type": "display_data",
          "data": {
            "text/plain": [
              "<Figure size 640x480 with 1 Axes>"
            ],
            "image/png": "[encoded data removed]"
          },
          "metadata": {}
        }
      ]
    },
    {
      "cell_type": "code",
      "source": [],
      "metadata": {
        "id": "xmJo7hxaEd4H"
      },
      "id": "xmJo7hxaEd4H",
      "execution_count": null,
      "outputs": []
    }
  ],
  "metadata": {
    "kernelspec": {
      "display_name": "Python 3 (ipykernel)",
      "language": "python",
      "name": "python3"
    },
    "language_info": {
      "codemirror_mode": {
        "name": "ipython",
        "version": 3
      },
      "file_extension": ".py",
      "mimetype": "text/x-python",
      "name": "python",
      "nbconvert_exporter": "python",
      "pygments_lexer": "ipython3",
      "version": "3.11.4"
    },
    "colab": {
      "provenance": [],
      "name": "SISTEM-OTOMASI-MODUL-RLC.ipynb",
      "include_colab_link": true
    }
  },
  "nbformat": 4,
  "nbformat_minor": 5
}