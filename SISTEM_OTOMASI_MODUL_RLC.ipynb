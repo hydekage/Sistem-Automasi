{
  "cells": [
    {
      "cell_type": "markdown",
      "metadata": {
        "id": "view-in-github",
        "colab_type": "text"
      },
      "source": [
        "<a href=\"https://colab.research.google.com/github/hydekage/Sistem-Automasi/blob/master/SISTEM_OTOMASI_MODUL_RLC.ipynb\" target=\"_parent\"><img src=\"https://colab.research.google.com/assets/colab-badge.svg\" alt=\"Open In Colab\"/></a>"
      ]
    },
    {
      "cell_type": "markdown",
      "id": "59aa7e6e-b18a-4706-8f71-823038755252",
      "metadata": {
        "id": "59aa7e6e-b18a-4706-8f71-823038755252"
      },
      "source": [
        "##  Transfer Function/Fungsi Alih MK SISTEM AUTOMASI/CPS ##\n",
        "\n",
        "### Pemodelan Pada Rangkaian Listrik ###\n",
        "\n",
        "#### Oleh: Sabriansyah R. A ####\n",
        "\n",
        "Pelajari file tersebut: <B>[my link](file:///RLCTF.pdf)</B>\n",
        "\n",
        "![Screenshot 2025-03-12 093420.png](data:image/png;base64,iVBORw0KGgoAAAANSUhEUgAAAfUAAAEfCAYAAABYl1/1AAAAAXNSR0IArs4c6QAAAARnQU1BAACxjwv8YQUAAAAJcEhZcwAADsMAAA7DAcdvqGQAAD3DSURBVHhe7d13fBRl4j/wz2xNNj2kkJAQIJRAMHQEERCxYAFFsKHol1Pw5KynZz3rWfDkfqinInogoiCIoogKhKJR6b2FkISE9EJ63WyZ+f2xm00yJJCySTaTz/v1mj/meWaTkAz72XmqIEmSBCIiIuryVPICIiIi6poY6kRERArBUCciIlIIhjoREZFCMNSJiIgUgqFORESkEAx1IiIihWCoExERKQRDnYiISCEY6kRERArBUCciIlIIhjoREZFCMNSJiIgUgqFORESkEAx1IiIihWCoExERKQRDnYiISCEY6kRERArBUCciIlIIhjoREZFCMNSJiIgUgqFORESkEAx1IiIihWCoExERKQRDnYiISCEY6kRERArBUCciIlIIhjoREZFCMNSJiIgUgqFORESkEAx1IiIihWCoExERKYQgSZIkL2xvcXFx8iIiIqIuZ/LkyfKiTsUndSIiIoVgqBMRESkEQ52IiEghGOpEREQKwVAnIiJSCIY6ERGRQjDUiYiIFIKhTkREpBAMdSIiIoVgqBMRESkEQ52IiEghGOqkeJIkQRJFWK1WxyGKLdzyQJIg1vsaoiiihV+BuoD6f+MmD1GUv6xJDe87EZ2w1QZ1M9zQhRRPspoQ/9MS/HtDPABAUGsQNedtPHdNkPzSJonlWfjfR0uw6/R5AAKCIm7Gs6/PRoD8QurSti5/CWt+T5cXN+A97Ca88cANcPfwgE5z8eeiX1e/jZWxCQAArX4cnnvvAfQ36OSXURfGDV2IOpgkAcbSXKSlpdmPdORXWOSXyUiQJBGiKEIUS7B3yxb8ufeg42tk5RTDLH8JdXllBTn17pPGjxM/foxbbr8f//1uF6obPBNJkOwtOqJYhfgdW/Hz1p2O16VnFKCmpS1ERC3EUCdqlBlH1y3CPbNmYMaMu/Hyx18hvUR+DXVbpiJsWf1ffL2/qF6hhNzTW/F/t8/AjBmz8fgbi3AwnR/9qGMx1IkaJcFiqkZVZQUqKqph6fheKupkgkaHe15bhd9++w2//fYbfl65COMG1XXZmMtKsXfDFhTVa/SRLGb7PVMFM+8Z6gQMdSKiZvCIGIn/u2sq6mJdhNlSAculenKIOhBDnahROoy652Ws/ykWsbGxWP3RixjkI7+GuhVJgqXGhLoMF6BRG6BW152HDL0Ra3603TOxsV9iah+942qijsBQJ2qUAJVaC51OZzu0GgiC/BrqTkxVZUg4dgjFtQVuBgSPHQk/bW2BAEGlrrtndDqoeM804Ty2f/cH8qqNsHLwoFMx1ImIGiFZLTi28zusWLECK1aswLuvPoWlW9Mc6xOER1+NB6cN5ptoq1iR/OsKzL3vYby/Yi2S6483pDbh/UhE1BhJxMm4jVi1ahVWrVqFbQfTYRUlCGo9QgaPxcK/3oM+nnwLbS1JtMB0PhWbvl6OZxcuxNpdZ1BRbeaiTm3EO5KIqAXcew7B3197G5f395dXUStIVgsKc+Ox7NW/4+l/fYAN+5Lll1ALMNSJiBohqLWYNv9V/HfJa5g6wAe13ePVOafwxSfrkFNllb2Cmk8NT18/eLppHCWSuRIJuzfhk7f/iX8u/hQpWcUw8VfcYgx1IqLGCAJ6hPXDZcMmYN6C/0NvPwMAQBJNOPnnN/hq80H5K6jZAjH31bfw9guP4KYJQxrUmEty8edPa/DQg3/DByvXYM2axo5fcK6yhk31jWCoU/cjSaguSEdKSsqFx7l0lFVzFTCqR6VB2PBpmDdrLDxrHyxNJdj5zadY/Uc6zM3f34Xq03niskm34rFnXsHHbz+PccMHwd+rbgqguTobP335KT79tLHjW5ytYKg3Rv3qq6++Ki9sb2lpafIionYjiVbkntiO2CO5tQUoOL4dGzduvPD4dT/Chk3GwGA35J7ei51/7MOJU/E4dfI4jsefRaV9krJKpYNaVY6z8fFIOJMP/8F94Nngu1JXFL/rRxywD8UWVGpcNnkGRvXxAdRa9OofBU3Gfhw/VwoRgLWyFOeS8hE1fjRCvPQAJFScT0Vs7A4cPxWP+PiTOHLwOAqra1NfAzd3I9ITzyA+Pg3awJ7w99A7mvW7K42bJwLD+2PKlZfDmrUfh1MckwYvwg+Tb5+Gvp6d//vr06ePvKhT8UmdqFEWZBzYjOWffIgPP/wQK9dtRX51XW1pwSGs+tBW98mnG5BV/6WkSFr3IEyb+zBGD/Szl4goytyL9z9ci7RKCwAJZTmnsHKZ7b748MNVOFNvDVmrJQnffrbMXvcljmWV8EkTgKmyGGf2x+Lll1/G93sy5NXUQgx1IqLmEFTwixyP+fNuQbCj0IL0/d/hg5W/oKSao7paxFyFMwe2Yfl7r+OhZ97CrsMJKKyo6/pS69wxftqduPPOxo7r0Ztb2DaK+6mT4kmSiKqibGQVVsmrLqTWIjgkDD4GNSoLc5FbVAHrJf6HCCp3hPYPh4e8grqc4tw0nC+rsZ0IAvx79kZAvX5eALBaKpGTkoX6d5NK547wsFAI5nJkZubDcol7BtAiMKwXfA26Tm8+7hwFWP/mf7Bu/xEUlBob1KjdfNAreiQW3ncnoqOiIPv1uxxX20+doU5ERB0sF0sX/gPr4us3t2sROmAkpkyfjXtmjIFtroHrc7VQZ/M7ERF1HpUann59ce8/3sR/3von/tKFAt0VMdSJiKjDCVBB5d8bN94xD299+DEevGksQgK94Nj0jlqFze/k8iRJQkGBSV7cgEYjwM+v9QNnLBYRxcWNz0/38tLAza1tbzWFhTUQm5jPLAiAn58OanX37F3tCCaT7Zev03X8c0xxsQk+PlqouGVbPfnYsvowel89Cv0C/OGmbfj/S5KA0lINfH1df7N6V2t+Z6iTS5IkCWaziF9+yYHZLDY71Hv00GHSpEAAwiVDUhQl1NRY8fPPORcNdU9PDdzdbW86114bDC+vi79Bi6IESZJw4EAxMjNtw6kuFuoA4O+vg06nwo03hkCrVV3061PLVFdb8MknZzF+fA+MGxcgr25XKSkV2L49DzExPh3+vbsyqxV4+ukYLFlyXF7lchjqDHW6BEmSkJNjxEsvncDLLw+Bm5sawcHu8ssaMJtFFBXVICWlEkuXnkW/fh549tnBcHNTQZBthG42i7BYJKxZk4b9+4vw2mvR0GhU6NFDd8G1AFBaaoLRaJuu9M47CZg6NRjXXBMMvV7+dCHBaBTxxRep2L27EHPm9MaIEb4AgIAAtyY/ZNhaImpQXW3F66/HY9asMNxwQ4j8MmqlvDwj3n47HhERHnjyyUHy6nb100/ZGDjQE9u25eHhh/vzw1ozMdRbj6FOLkOSJBQXm7F1aw4A4O67I+SXNFtenhEbN2YhPNyA66/vCZVKgMkkYuPGLFRWWmAyiZgwIQDR0T7yl17S7t3ncfp0OXx8tJg+PRR6vRqSJGHv3kKcOFGKyZMDMWiQt/xlzbZrVwHS0ysxapQfBg5s/dch2z318cfJ+NvfBmDz5hzodCpMnVo3y7w9iaKEjz5KwqOPDsSWLTno188TAwZ4NvrBkRpiqLdex3cwETXBYpGweHEC7r47ok2BDgDBwW5YsCASffp44Ouv0wEA69al46abeuL//q8vFiyIbFWgA8AVVwTigQf6Ydq0nnjyyaOAvd+0uNiEBQsi2xToADBhQgDuvjsCv/6aL6+iFjpwoAiDB9v+Hpdf7o8tW2wfGDvCAw8cwIMP9gMATJsWgv/+NwmVtesME7UThjq5hOJiE9auTcezz0bJq9okKsoLAwZ44ssvz+Gyy3zg7l631WNbeXho8NRTg7B69Tn88ovtScyZ7r+/L1asSMG5cxXyKmqGqioLEhLK0Lu3bYKUn58Os2eH4eDBQvmlTnfuXAUmTOgBjabuLfaqqwJx8mRpg+uInI2hTp2upsaKlStTMXt2OHx8Wj+CvTGCIGDwYG9s2ZKLlJRKpzZ9CoKA8HADzGYJV18dhKiotj2hy7m5qXH//X3w44/ZqKriE15LFRebkJRUgf79vQD732vkSH/ExubJL3W6M2fKcc01wdBq695ib7wxBIcPl8B6qSUKidqAoU6dbs2aNNx6ay/HCHNnOn++Bj/+mIV33olBVZUFZrPz1uc2mUSsX5+BmBhfbN+eh6SkcvklbaZWq7BgQSTmz+fe3S21YUMmXnklukGZVqvCqFF+2Ly5fZvhjx4tQUREw4WD3dzU6N3bgOPHSxqUEzkTQ506VWJiOdRq2xNve8jIqIS7uxphYQbo9SoUFNjX9XaC777LwJQpgRg50g/Tp/fC6dNl8kucQq9X4Z//HIz9+9u/2VgpDh4swpAhPg2av2tNnBiI337Ld+oHvFqSJOGZZ47hwQf7XdAqJAgCpk4NRmxsLlteqN1ceMcTdaATJ0owfLhfo2++zrBpUzZuuaUXAOCGG0Lw6qvx8ktapaDANu88MNC224SvrxaBgXqsXWsblOdMtc38J0+WwmK5yGR3AuzdOfHxZRgwoPExDu7uatx1VzjOnHF+y0pGRhWio33g69t4N5K7uxojRvhi3z7bnu1EztY+76REzZSUVIGYGNtcbmf76qtzuP32cKjVttvcYNDgr3+NRGxsrvzSFisqMsHNTQWtfSUsQRAwYoQfvvsuU36pU3h6alFUZEJ+vvNaGpSqoKAGhYU16N278X3zBEFAVJQPvv8+S17VJqIoISmpHJMnBza5JgEAjBsXgJMnS1BT4/yWAiKGOilSfr4RFouEiIi6Zn2VSsCAAZ7Iza1ucG1LWa0iDh4sQnR0w4FxGo2A6dNDkJjYPs3wTz45CG++6ZyWBiVbvToNDz0UKS9uwN1djTFj/LFtW9s/4NWqqrJgx478BvdcY7y8NIiK8kZCgvNbCogY6tRpvvkmHTfc0FNe7BQFBTXw8dHCw0PboNzTUwujsW1N2KJoGwgVFdVwnrtGo8K0aT2RklLZoNxZ1GoBPj5aVFY2vpwtAfv2FSImxrdZa/VffXUwDh4scqwW2FbLlp3FI48MuKAvXU4QBIwb16Pd+vW7qtdfj8KDD47Cgw+OwoIFo5CQ4OU4rz2s/HVdEkOdOk1hoalNm7B0liNHinHFFT3kxR3iwQf7sj+2CRaLiNTUCkRFeTdrOVadToWJEwOdMmshK6sKwcFuCA29+HLGtby8tOjf3xP79/NvWSsjw4DkZE8kJ3vi7FlPVFdrHOe1B10aQ506hdFohVotNJjH60y7dhVg8uRAeTEA4KabQvDkk0fkxc126FBxk1/b11ePxMRyx65g1HEyM6tgsUjo06fxvvTGxMT44ocfstr0tG61ijh1qhTjx7fsg94VVwTg6NESrjJHTtU+76hEl5CaWgEfHy1CQpr3ZNNSJSVm+PvbRqbLBQbq260/U6dToarKClHkAiMdbdmyFNx8c6i8+KK8vbUYNcoPe/YUyKuarbzcgu3b8xEZaVvkprn8/HSIjPTEqVNcZY6chxu6AIiLC8Devf7QaDr8V9FtVVdbMWZMLq6/3rY1qbO9+24C/vGPxpecNZmsuOWWXdi8eZK8qlmWLk3GXXeFw8+v8Q8NixadxhNPDGxWv25LZWaq8dln4fD2bjhWoHvYDaDpufrjxgXg8sv9WzU98oMPEjF/fmSrFkBaujQZN90U6liOtiVKSkyIjc3FlVcGNrvpvr5ff83H7t0FcHNr6t8cBmCEvNAlxcUFoKzs4t1xO3bEQd3yP1G7crUNXRjqADZuDMGECYUICLj4nt3UdWzYkIGhQ30a3eWsK4c6tY+4uHwEBuoxZEjLNvnJyKhCXFw+7r23j7yq2c6fN2LJkkS89VaMvOqSvvrqHK69tieCg93kVV3O/PkjkZR08dYOhvqlNfXxjqhLi4ryxqlTjU8tKy01Izy85U9FpFyjR/thzZr0Fq30ZrHY+tJHjvSTV7WIn58OkyYF4uTJli0fm51dDY1GUESgk/Mw1Knb+f77LHz66Rh5cbMNH+6LXbsa74OtrDQjOFgPjebSo6/JdXh4aDF2rD8OHWr+aPTz52uwe3dBi5/u5TQaFQYPbtm8dVGU8OyzxxyrJRLVYqiTImm1KpjNYrssqzp6tD9+//3CUBdFCefOVSIy0rNV/brUuWbM6IXjx0ubPXPh559z8PjjA+XFrRIR4YGCghoUFTWvC3Dnzjw8/fQg6PUu1hbdBkFBNejVqxq9elUjNLQaOp3VcV570KXxnYcUacAAL+TkGFFY2HBZ1YoKC/T6tt32KpWAoUO9L5jfbDKJePXVeEyaFNSgnLqOqChvJCeX41JDjbKzq+DhoUaPHo2Pq2iNmTPD8Mknyc2aOZGfX4OICI9mzcfvKt588xRWr96P1av348sv9yM6usxxXnu4Wn+6K2rbuxuRC3NzU12welx5uRkeHpoGZS2lVguYMCEQx46VNHjzNxqt8PJq29emzjVhQgCWL09FeXnTfeuiKCExsRyRkc5dDCUgQI9hw3xx7NjF+9bLy80wmcQmN42h7o2hTor10EP9sXJlKqxWW/CazSK2b8/DkCEXjohvqchIT4SHGxybgkiShC++OIcVK8bKL6UuxM1NjSlTgnD4cNN964WFNdi+PR9jx7ZssZlLUasFREV5IzGx6b51UZTw2GOHcfvt4fIqIoChTkp366298N13GYD9SdoZA5tqDR3qg7i4fJjNIkpKzOjXz7lPbtQ5br45FCdOlDbZDL52bTpefHGIvNgpIiM9kZ1d3eQObr//fh7PPTcYBgPboalxDHVStNBQd9TUiMjNrcbGjVn44APnLcTh4aHBq68OxerVadi4MQtRUQx1pYiO9kFCwoVTIs+dq0RQkFurFqlprnvvjcBbb52WFwMA0tMr0bOn2yU3jaHui6FOihYY6IaZM3th8eIzuPPO3o79z52ldkOaO+/sjQED2t6sT65h0qRArFx5DuXlDXfES0urRK9e7bvGQUCAHpMmBeDYsWJ5FbKzjfDxYV86NY2hTop37lwVnnpq0AWj1Z2hpMSEESP8sGVLjryKujCNRoUpU4Jw4EBd33pRUQ127szHhAkBDa51NkEQ0L+/1wVrwt999x78/e/OmUJHysVQJ8UbOtQHISHuTutLr8/XV4dhw3wxc2aYvIq6uClTgnD6dBlMJlv/9qpVafjHP6I6pOk7IsIDublGlJXZ5q3v21eA11+PbrddDUk5eIcQETVCr1dh4EAvHD9eipSUCoSEuMHTs+OmLM6d2wcffJAMi0VEfHwZQkLcO+QDBXVtDHUiokYIgoAJEwKwc2ceDh8uRlRUx46Z8PfXY8QIXxw4UITiYjM8PbvjznzUUgx1IqImGAwaREf7IDm5AjExzu++uRi1WkB0tDc++CDJacvRkvIx1Klbk0Qr8rPTkZqaitTUVJxLz0SlvQ+VCACmTQvBggX9OqXpu08fTyxZMhxqdcd/b+qaGOrUrUmWGix76wnMmzcP8+bNw1+feglHs7hxBNVRqwX4+ztvjfeW6tmzfafQkbIw1ImIiBSCoU5ERKQQDHUiIiKFYKgTETVDYdIuLF++/OLH2o0orLAtGEPUGRjqRETNUJJyAF9++eXFj88+xpOPPoxFX/yKMpMVje/zRtR+GOpERM5irUF66llsWfMBVv6eAouVsU4di6FORNQKUTcswNdff207PnsPVw6tt/5/TTF+XLIWZ6sb7vJG1N4Y6kREraD38EFISIjtGDAcLzx1N0Lq1Vsqz6GojE/q1LEY6kRETqDyD2gQ6oAaKr7DUgfjLUdE1EaSKKLo9EmcrVem7jMKvX3V9UqI2h9DnYioFSw1VSguLkZxcTHST/6OFxevQam9TlD74c6HbkaQjqFOHUuQJKnDO33i4uLkRZ1q48YQTJhQiIAAzi/tbkRTFd78+73YcbIIAKB298GEKdcizFcnvxQIuQx3XjMaPu7cArM7Orv1PTzw9g/y4guoVCqMu+spPH/fNHi5MdRbw2oFnn46BkuWHJdXuZzJkyfLizoVn9SJ6rFWl+L3X77FmjVrLjy2H0aFkTu40UV49sEbqzbgzQU3MdCpUzDUiYhaIXTY1XjkkYcwNTq4rrDiHD5a/DVSyvjhjzoHQ526PTd3Azw8PC59uOnQCVtqk4sKHDAKs2ffhcee+D9EaureSrOOfoP/rd+FGlFscD1RR2CfOvvUuzVJkiA2+81XgEolQGCyd0vyPvVhs/+B9x+5CZLVhJRda/HUWytQYrRXegbhnr+/hXmTI6FR835pKfaptx6f1KlbEwQBarW6mYeKgU4XENQ69L1iJuZfPxSa2sKKfKxb/B/8kVIMNsRTR2KoExG1kUrjiWvvexQ3DPZ1lFmqTuOTJcuRXFSF5rYFEbUVQ52IqM0EaP0H4N7HHkekj+N5HXkJsXjvi1jkldQ0uJqovbBPnX3qRNQMRWf34efdiY7zoKhxuH7MgAbXSFI1jv+8GceLKxuUx1x1C4aFezcoo6axT731GOoMdSIil8JQbz2GejuHuqngKNau+xMlVluvmsF7KGbOvQo91PKeDxPOHYzDtt2nUQ0A0CBy+DW4btJAyNcv2xe7DvsS8gAAHj6X4dZ7Jzfy9YiIuiaGeusxCdqZyj0UOadjsWHDBmzYsAHf/vAFjqTaYrs+a2UpdsWuw9f2677/eQsyLXo0XJOqBrlnErDpm5WOr/dz7FGUdfznMiIickEM9XamcfPDiJhhqF1J3FhRhCNHzkA+bKaiNAPHDyY7RskaDJG4fGQEVBBRkHIQyz/7FJ9++l+89LeF+DP5wg8FREREDPX2ptZg6LCh8PO0/6otFYg/cQgF5Q1nr5ZlJyLFtqcIAMB//DQM8QUACcUZJ7Hu6zVYs+YnJFk4OYaIiBrHUG93AkKHjsBgXz/Yli2RkHr0JJLziutdY0TC/gM47zj3xw3XD3c83RMRETUHQ70jePTFdVf2hGMsW1k8DiTkOqqtxak4cDzTca7rOwTjwmqnv6gQMeZW/G/lKqxatQqrVr2LYQHc/YmIiC7EUO8QWkRffS0C1bVhbMaZk8molgBIVuQkHseZ3EJ7nQ6Do2IQ4O1uPxegM/iid+/e9qMX3OvWtiAiInJgqHcQ99BxGDHQzXGed3wPzhRbIZkrEX/0KM6XWgAAgocPBo0eC0/5PDYiIqJLYKgDADKBC8ajO5fO3QfDYkZAbz+vKE7C/iPpKC/Lw+HDx1Bln5Xm6xuJCaP78A9DRN2YBOCwvPCiRKsZJlMBdm9Yi08//bTesRwbdxxFhdEEi1VEUxOAy5N+w/8+q33Nt0gqqZJf0iUwOwAAOQCcv/BMA2o3xIwcCj9v23A5sbocJw8eRHZeKpLP1N08/qMn4TKfeq8jIuqWTsgLmiDBVFWGP7/6F2655V68/OEyrFmzpt7xJd576x+4/fZ78O/Vu1FpXwisPmN5CXZ8836912xGWlnXnDrMUO8wAkIGDccAXz/7uRlJCcewZ1sskh2X+GPS2MH8oxARNYuEyuIkrF70At5e9Tuqq42wiBc+i0tWM6rLz2PHqs+xr6gCgATRUoSt61ZgxYoV+Pc//47/bitGIy/tcpgfHck7CteO94faviV3deqf+OKHg45qITIGY/sF1l1PRERNE8uw6T+v48vfT6K63tIfKo0Wbu7ucHd3h5ub3vGeW59oLcGOb22zinYeS1HMvvcM9Q42ZOINCGp0nXYdRgwZhuAenvIKIiKSk0TkHdmBjcfz6/arFwREjLkZr/77f/hx82Zs3rwZm77/Bm89twBTh/pBJdRPdwEqtRpq+9FI7ndJjaULtSOvsCswMqqROWmevhg8Zgz8L1hxRoLVXIOKigr7UQlr/SYiqxlV9epMjfQXEREpjWSqxLbt25FTVjceKnjMTLz2/GOYNDLCsXiX1t0Hl18/By8t/hyP3jYCWggABGj0fbFo7Q7s2LEDO3Z8j/kjvRURiEr4N3QpOk9vDLtsLGpnodfy84nE+OG9ZKUAICJlz1rMvnUGZsyYgRkzFuBAXl1DUVHuL3jktpn2uifwa0rdunREREplMhUhI7Vu0S7ofDH+yqkI9WtiPrDeB9MfehgTA5TdGtptQ12SJJw/b8T580aUl1tQWFjjOBfbcbSEoDFg6PBoBPg2bOzxHzkOg72aaACSJIiiaD8u/NkkR13T0zWIiJREtJSjvKRuhLrO4I5+/cKga9DEXo8gQFCpIDRVrxDdZj/1r79OQ1ZW3Q0gCAKiorwAe8DXllmtEpKTKxqE54gRvpg6tafjvK2kyjzs2n8UxRV1zUa9L7sCw/r0aHCdjYTS7ETsOpTYjIEc3hg+aSzCfeTtAEREXYfVKuHpp49iyZIR8iqH8oLf8NycN3DKZFu4yyMwHM/9ZxUm9m5NaJdhzd/vxf8Ol9n75yPxz1X/xjW9G3tPbsjV9lNXbKjn5xthNFqxbl0GsrOrMXduBMLDPRz1ggAEBNQuBVNHFCUUFZlQ/7dy6FARtm7NxYgRfrjqqkB4emrg73/ha4mIqO2aE+pVJSfxr4efwJ4cW6i79wjD0+9+jqn9mmh+vyjlhLrimt8rKsz48MMkbNuWi/37izBvXh8sWTICI0f6IzBQ7zgaC3QAUKkEBATUXRcYqMe0aSFYsmQExo/3x/79Rfjpp2ysWnVO/lIiIuogKpUPDB51T+XVpeU4eiQexgZXdT+KCfVz5yrw009Z+N//UjBjRihuuy0cs2eHIyCgbr31puzYkYvi4kuvKDdggDdmzw7HzJlhGDXKD2+/HY89ewqQnd01Vx4iIuqqdG6+GDBwUF2IWcqwP+5nnEitv611ncr8JGz4bBX2F1XIqxSly4e6yWTF0qXJ2LOnEOHhBjzxxCD07u0Bd/fmb09aUWGBtcE8sYvz8tIiOtoHzz8/BNXVVuzYkYdPPnGsC0dERO1MpTNg/LjxCDDUThGWkHc8FovfWYxvtx1Fpa1VHlZjGXZvWoG3X3sJH62LQ7nCp/126VAvLKzBihWpmDatJ267LQzDhtUuwdpxrr46GLfdFobrruuJNWvSYDJdejgbERG1lRrh46ZhztVR0NcbG5eXsAufLnkFD9x3D+655x7MnTcfb320Gn+eyq33WgmSaERqwgmcOHECJ07EI7fCUm/2kBEZiaftdaeQllPajIHKrqFLh/ovv+Tgrrt6o29fT+j1zX8ydzYPDw369fPE2LH++PLLNHk1ERG1A5WuB667/2HcMm6wYwdMADBVlSI3OwtZWVnIzslDhfHCSLaas7H0pUfx6KOP4tFHn8OPiVX1Qj0LX7zxT3vds1ix6ViX6avvkqG+dWsuFi06jeuu6wlf3wuWYOs0kZGeuOaaYCxadBoHDxY5psoREVH7MAQOxrzn3sBT91+FIQP7wFsvG/0uqOETHIGo4WNw7zNPYJxf3SwoJepyU9o+/fQsRo/2x8iRzmtq37gxExMmBDY5Ir41YmNzYTCoceWV3KCFiKglmjOlrVGmYhzafRBZ9bdNVekQPng0hkUG1HuKlSBay7Fvx284f8lHcC1C+g/D8CGhaGyynKtNaetSob55czYiIz3Rv78XVKrWLDDQuPYIdQDYsiUHPXu6ISbG16k/LxGRkrU61DuBq4V6l2h+lyQJa9akITDQDQMHercqIC0WEWZz44fVKl203mxufHnWS5k2LQQZGVXYs6dAXkVEROR0XeJJvbzcjDffPI1Fi2LkVc22bFky0tKq5MUAgNzcavj766HTNf0Z58EH+6Ffv5ZvBFBdbcG6demYMycCOl3nDeYjIuoq+KTeei4f6uXlZmzYkIlbbunVboPi2qv5vVZiYjkOHizCrFlhnTpKn4ioK2Cot17Tj6Yu4r33EjFrVli7BXpHGDjQC1deGYDvv6+3TSAREZGTuWyoS5KEU6dKMHiwNzw9Gxtz2LUEBuohikBenpFT3YiIqF24bKiXlprxyy+5mD07XF7VJbm7azBnTgTefz8RFgtDnYiInM9lQz0uLh9TpgTJi7u8iRMDcPBgkbyYiIiozVwy1I1GK06fLsPo0f7yqi5v5Eh/JCSUwWxW9qYCRETU8Vwy1PftK8T11/eUFytCcLAb9Ho1kpLK5VVERERt4nJT2vLzjVi6NBkvvRTdqkVmWiM2NhejR/vD379jRthbLCIWLz6D554bLK8iIlKMBx7YD7O55REjSRLMZumia4dcyiuvRCMysuVri7SUq01pc7lQz8sz4uOPk/Haa0PlVe2m9lcgCB3zIQIA3nwzHi++OEReTESkGK1ZidNZBKFj3tNdLdRb/zGonaxenYZnn42SF7crQRA65I9f391398bnn6fIi4mIFEOlEjrt6Oj3dFfhcqFuMokwGDTyYsXR61UwGjlYjoiInMelQv333/MxcWKAvFiRgoPd4OOj5YA5IiJyGpcK9epqK9zdu8fa6BqNCiqVwKltRETkNC4V6kRERNR6LjX6fevWHAQG6jFypPIWnWnM2rXpiInxwZAhPvIqIqIu7/33E2G1dnjEAPbByCEh7vJip3O10e8uE+omk4gff8xCTIwvBg70klcr0o4dedBqVZg0KVBeRUTU5aWlVaI1CSOKEt59NwHPPtv6tTxCQmwLfbU3hnoToZ6XZ8Ty5Sl44YXuNXd70aLTXISGiKge7qfeeuxTJyIiUgiGOhERkUIw1ImIiBSCoU5ERKQQLhPqGo0Ag0GNqiqLvEqxiopM8PHRyouJiIhaxWVCvUcPPQYP9kZCQpm8SrFiY3MxeTKnsxERkXO4TKgTERFR2zDUiYiIFIKhTkREpBAuFeqDB/sgPr579KmXlJhQVWVBz55u8ioiImoVCVarBRZLw8NqFVu1XG1X5FKh3ru3AZmZ1fJiRaqstKCmRoS/v15eRURELVRTWYzc3KN476H7cM0119Q7bsDfXl+JlOw8lFTWQOnZ7lKhDgBXXhmA77/PlBcrzp9/FmDKlCB5MRERtYgVOSd34p1nH8Zddz2JTcnZsnozEuJW4YG59+LRZ/6L+DJlPzi6XKgPGOCFo0dL5MWKk5xcgagob3kxERE1mxVZpzbh1afexs6TufLKhkQzss+cRm6NWV6jKC4X6l5eGgwa5IX09Cp5lWLs21eI4cN95cVERNQSJcn49IOvkNggqPXoP2o6HnnqKTz11FN47K/zcFlIvWqFc7lQNxhsoX72bLm8ShFMJiuSksoxeDCf0omIWk0049ifsTh2rtDRT65298H1D72EJf96BLdNn47p06dj5h33YtEnG/DyfWMR6OMu+yLK43KhDgCjRvkjLu68vFgRCgtNMJlE9OvnKa8iIqJmEk1VOHDwEEpqaiNdj2HX/gXzbxsPL4PeEW6CSg0PH39cff8bePetRzHUS9nB7pKhDgAPPNAPS5cmy4u7vM8/T8WsWWHyYiIiaoGamlykp+Q4zgUPbwwdMxL+enWD6xzUOoQPGoRgN2Xvt+GyoR4c7AZvbw2yspTTt757dwFGj/aDl5eybyoiovYmWopRXmx1nLu56RHRK9h1Q62DuOy/X6dT4dZbw/D556nyqi6ppMSExMRyTJkSDJVKkFcTEVELSBAhinXnKpUKOq2u/iXdksuGOgB4eGhwzTXB2LCh689b/+67TFxxRQC0Wpf+lRMRdQlqtS88fesekIw1JmSfL2xwTXckSFLHL54XFxcnL2qSKErYt68QRqMVU6YEy6ubLT6+FBUVrd+rPSrKG97eLW82t1pF/PRTNqKivDFwoBcEgU/pREQXY7VKePrpo1iyZIS8ysFUeR4f/XM+Nh6xr2siuGPc7U/g2QevhZ+ukYcn0YLC7DwIQcHw12nkta02efJkeVGnauRf7lpUKgHjxvXA6tXp8qoWKSuzoKjI1OrDYqnXztMCRqMVhYUmDBrkzUAnInISnZsnhg6JgWP3DKkaR3Z8hR/+SGx4oV36vvV4818f4VipcsZpNcbln9QBQJIklJSYsXFjJubMiYBO18ToRheTl2fE11+nYd68vvDxYV8PEVFzNOdJHZBQmvwHXnrlHRzPqnSUag1+iLniRtw2bQw8NIDVWIo/Nq3CziPpqDT1xgtfL8HUQOetE8In9VYQBAF+fjpMndoTy5adhdFYN+LRVZlMImJjc/Hww/0Z6ERETifAp/84zL/7GvTQ1j3omauKcWj7arz49BN44okn8NRzr+CHXWdRVqXs5WFrdYlQrxUebsD99/fFunXpOHGiBFZrhzcyXJIoSjhxogTvvnsas2aFQd/UnEkiIrqI5mx4pUP0tPl44bF7MajHJbaxVmnQIzwcPhplvyd3ieZ3uXPnKnHoUBECAvSYODHQZaaI1dRY8f33mdBqVbjhhhAYDM4bjEFE1F1YrcDTT8dgyZLj8qomZRzbjv2nkhG3+VecLaqoq1C7of/oKbhyWF8MHDURw8Kc1/QOF2x+75KhXmvnzjx4e2sxcqRfpwe71Srhp5+yMGaMP0JDDfJqIiJqptaEOgBAtKLGZIIoSzW1VgetRo32SAlXC/Uu1fwud/XVwaiqsuCTT5Jx9mw5amo6vq+9qsqCw4eLsGxZMiIjPRnoRESdRaWG3s0d7u4ND107Bbor6tKhDgCTJgVh4cIB+OqrNCxfnoKcnGr5Je3CYhGRlVWFl18+iUOHirFw4QAMHcrtVImIqPN06eZ3uXPnKnH8eAlSUytx440hCA83QKdTOa1p3mIRYbFIiI8vxZ49hejb1wNXXhkAb2+ObicicpZWN793Aja/t6M+fTwwY0YvPP74QHzzTQbmzt2HffsKkZ9fDZOp9U3zVVUW5OdX49tvMzF37j4cPFiMv/1tAG68MZSBTkRELkNRT+qNOXiwECUlZiQklDdYJlajEfD44wMbXAv7/PJPPkmG2Vz3awkK0qN3bwPCww0YNMi5IyeJiKghPqm3nuJDvSkmk4iFCw8BAEpLTfDw0ECjUUGvV+E//xkON7euOZfRUlOGnIx81NjPNVpvhEYEwVntCVZzDc7nZKDCZC9QaeAXFIoens76Ds1XU5aP7PNlqF2uQOPhj15BftCqndPdQkSdg6Heet021Ov/szduzMKECYEICKgLpvZdp70YOz9fi91ZdTsKeQeMwJy/3oSABte13PmUbXjpL28iwX4e1OdW/GflEwiXXddaZ3aswCvvr0JuGQBBhR7j78S/n7wXkYEe8kvbXUV2PFYseQEbDtg2dHAP6odHX3wbNw5r/cY/RNT5GOqtp6g+9ZYQBKHeAftRV9aeatJO4tvtv2D79u2OY8v29TiSXPt87URO+8wmojJzNz5fuckW6FDBf+StWPz3dgr0mnJ8/vajmD59OqZPn4FZd7yEs/XWkwAAz9AhmPvYC5gY4QkVgOr8FHy9/BskO5oRiIi6l24b6p3HjMRjR5GfX96gtKqkGIcOnISxQWnLeQVdhgdefhkv24/HH74R/vKLWqOmFFu+XY/DWcUAAINvFBbOvwe9A9oh0AEAEozVlSgvL0d5eRnKK6rR2D55fuEj8chD9yDIWw8AyEjYgq827EZZO3w+IiJydQz1DmatLsfhY0dRKN9bwFKK/bt3IP1827YFdPPsiTFXX42r7ceEcYPgjNjNTf4TG38+BpMIAO4YcuuduGpgD3T+yAMNgi+fhb/cFGX7WUyV+GPTDziaUde1QUTUXXTbPvX6Nm7MtPep25722lPJ2V/x/FNv4HRJI1PsdOF4dNFbmDWyiR7wqgx8/v8+xzlz3WvV7j6Ydtd8jO3jZbuk6Cw2fL4KSWW2ev+BV2P+PZNhgBUZh7dh1aY9tmAW1Bh94/2YPjYC+zd9gc0HUyACcPMajQefvAmB6vqf96qw5f3nsej7Y7bTnuPxwZLnERNimwkgihYkbH4f6/bbvymA0Xe/iJsH6WDryajEn6uXYVtiKQAgdPhU3HnDJPi6ATCX48DWDdhyIAUWAHDzxeWjBuPkvj9x/NgRZBbYtlQU1L4YcfkweGltX9836gb89c7L4W5fg6A4ZS9efOY5xBfY6sc98DYWzR1vOyGiLoV96q3HJ/UOZUHy3u1ILrOHsrYnbr7rVoTXjs8zZWHvwSTIH+JryvLx2/JncMd9j2HN9p2Ii4tzHDu3/oR/PTEPT/zvV9uXqC7GqX119ftPZdi/noSy3GTs+qOubteeWLx5xx3418df4Vd7WewvH+HVNz5DckFd+7WlIAl/HM6wnagMGHPlRET08HTUCxAQ2MOA/fV+rs1H0hyDES15p7Dxp18ddVt/P4zCSltHg1hdhqMHfsMOe92R46lQSRXYvWevI9ABQLKW4PDuuq+/71QmLKj7POrTMxIjhkZCYx8OkbF3LzLZBE9E3QxDvSNVZyLu90RY7J3DXv2iMfWq6zAqysd+gYiUvXuQWpdlgKUGezcuxetf7Ud+QfEFgQ9JRHlJAYrKW9gbL1mx9/vV2Jafj/Lquq8qiUac+vU7fLc7yVFWeC4B50ptI8y13n4YNXYkvHR1t46gUsE7+gYMD3EUIWXrLhTaQz0/6RhSy+pGuRWdOoZ4e998eWkO0lKz7DUqeIVdjn5BLW/UVxl6YNLoQfB1t53n5x3HybO270FE1F0w1AEAPkC79w5LKEw6gaN5pbbnS0GPQUNGICI8HMNGDIOn/S9RVnAKB0/l2QeFSagxpmDnz3/U7TpkGI1Fy9dg3bp1WLduHf7z9F0YOaQv3OqFbLO5+2H06NEYPXo0hoR719vwwIRTe47BFuM1OJ+TB2OV7ScyGHwR0StIduMI0OgCENG3l6PEmrsfeaUArEYcO5yCiqp6vTymNCSkngcAVBRlIivTNlpdUOkxdOII9Iu+Hp99ugzTx/Z2vETrdhkWrbD9m9etW4cPn74RHg1mKajQL3o4fD1tLQjm8kpk5uRf+CGIiEjBWpEESjQQQDvvrmY1If7oMRSV2QJMbfDCsDEj4evhgejhIxHob2uDN1cU49i+w6i2L34nSRbUGOtWwoO6EL/+eRgGnwAEBwdj1M1/xTuL3sZjN4+ou6Y5BDXG3PIQFi9ejMWLF+Pt1x5FP9+626EmtxCVAGAxIjcrH1X2WWLu7v0QHHThbaPWuWHYZUMd5xZLCpIzCmE2VuJQ4ikYG4zcEHHmdDKqAeQmnUKWveVC5TsIV40Mg0ZnQGBgIAxudfvRCyo9egQFIzjYdgT4GqCSTT3U9opAX72b7aSmEjk5BbA0MnSBiEipLnx3pnZhrinDsROnUGkPMA/P/hgWHQwVVAgI64Ngb/vys2I1zsQfRmGFrUNYow1H/yi/ui9Unoptqz/GX+6bg7vuugvzn/8QfyYVIyy43jXNIiAkpO7J2qPX5Qj1b+R2EEWYLWZH77UuJAT+9sFqDQhqRPSLcJxKVitSUzNRVXYWOdmVAHQYf9N0DAuwdTUUJx3F2UIjMs4moXZWuUdEBPp420O5NXQBCO5ZO0BBhNlscd40fSKiLqCRd3FqD9X5x3DsdL7j3FiWhtXvv4nXX38dbyxdh5zCuqlsJWfjcTi7zNasrffC9Pv+hkGeBqjtI71FUxXO5+chNzcXSXu+xWvPv4Alq+NQ0dhE7mZTQ9WMu0FQq5q4aQQEDR6B4bUPz5IZKcnJyNi/BaklIqAzYPDY63FFtG2UfknROZw5fRinkmrn67tjxNAY+Hi0ZblZFVTt3YtCROTCGn9/JiezIGX3r0iz90sDgKk6B/t27sTOnTuxc+cepJXWm59uysavuxJt/cGCGkFRV+GdlavwwvzZGDN6NEaPHopgXV3TNEzFOBi7FofT278HWawx26aeNULl0Rezrq/rxsjMTMKBXQdhlCQYPP0RPXAwRk0YAy0Aa0kRju/YhiOF1bbXevti8NDBcG9TKFtgruGjORF1Xwz1DiBVZSHuj0SY7aPdBJUGejd3uLvXO9zcoHFsRCIhOe47nMq3wlSViK3fboPKzQOT71iIdxcvxuLF7+CVZ57CuKggx/cw11SiuNwWkE6l1sBgMDiGEVoKiptsERAELaKvug61+9gVJ/yODQfKIUqAR68xCA9Qw6/fZejnBUCqwL49e1BUahu17+XdCwP6BNQbrNeQJOagotJq6wYQLTCaLA3W7wcAVOYi63xtY74GBoN7s1ofiIiUgm957U7C+TPHsC/LPuodAgZeNQefrdmADRvqHWs/x4PToh3hWZmfhLiDyTCb8/DzJ4tx+6yZ+HLrIcTHxyM+Pg1iYE+I1UWO7+Lm2QOhAbambadSu6FnryC427u6KypP4Fxm48/qgqCC97BbEFW7n4rRiHJ78EZNvBKBWsA7MAqDBto+jBiNRoii7RNCUPSVGBRUr+ldEKBV1z22m425+OG7TTgVH4/4uPV49oNYVMgy3ZKdibQa+9Q+gwdCQgOg5R1ORN0I3/LamWQ1Yd+uP5BvH/UOtQciB8Ug0F/2pO7bA0MHR8E+CB4wVSHx8F5UmQFJtKKmxogv/v00Fi5ciIULF+KRx5/E/jRbuGr0AZg8ax6GhTT1nNsWWgSGhsJgsI2OqyovQ2JSGiyNtXILAlTaUPSNrDdhHQCEUAyP7gkBgNbDEwN694F9OrmdCtEjo+FZ/8fXuGP4ZVEwOO5QK+K+eQ+PLFyIha8tQ15JFVBv8RlIZiQlnEZlpa21wuDji8jwnu0+UZGIyJUw1NuZxVyO48eOOfqh9Z7eiL6svyzUAECHPoOjEdCjdqV2K86ciUdJjRa9IiPRP7R2gZp69F7o3WcIZi94DgtnjnLanuly/v2GYJC/bXS9taIYRw4cQmlN423wKo0Goy8b3iBMNeFRGBxs72vXGDBgQDi8DPUSXD8Eo6Nlm86qNBh+8+24Y0gUAr0v/G0JWk2Dm9dqLMGevadQah+3EBQyFlF92nmaIhGRi+Ha7wA2bgzBhAmFCAhw/padVnMudm89gGJ7f7rWLRBjJl2OALdGPk+ZinFo1wFk2VeHEwRvjLjmCoS5aYHzJ/Hj3tSG1/v0wpTLh8Gr3nzumsp8HNm1F/m1rdDBUZh4+UDoIaIoLR57jqfAKgGAgIiYKzCsTw8AgGg149AfW5BTZvs53b36YvyUy2BbysWEPV++hRdX/GZbBMcnBv9672VM7Nv47u8VuWfw24EzjgVz3Hv2x5UjouBubws3Fabiz0PxqDDaJ5H7hGHK5TEN/h0OogUpJ/bjZJp9UXc7j36jcXV0iGOb3Jzjv+C5F/6NtArb4MJpj/8/PHfrsAavIaKugWu/tx5DvZ1DXSnKso/graefwd5s2wj7Xtc/jhXPzITeFdq3zZVY9+5DWBqbCQDQRUzF4neeQEzPdhhjQETtjqHeeo08LhJdyDtoIG68YSK87QvP5Metx5qdCajp+M+EDUhiFY5+vwzr4nIAAIJXCG6bMxOD2mPQIBGRi2OoU/NoPDDp1rtwZX/bIDizMRtffv0VTqTWjcDvDNnxv+Lj1T+iqMbWlD9k2AzMun4o9I205BMRKR1DnZrPayDm/u0BDAu1nYopf+KlNxZh++mG/d0dJffI93j3nQ9g36YdvtFT8eCCmxAov5CIqJtgnzr71FtEkkRYzOa6XeMgQK3RQKPu+M+HotUMc+0+tgAElRpajdoxeI6Iuib2qbdex78TU5cmCCpodXro9bWHrlMCHQBUam29n0MPnVbDQCeibq1z3o2JiIjI6RjqRERECsFQJyIiUgiGOhERkUIw1ImIiBSCoU5ERKQQDHUiIiKFYKgTEREpBEOdiIhIIRjqRERECsFQJyIiUghu6MINXciFFRRosXRppLy4gVtuyUZMTJm8mKjL4oYurccndSIXVlWlwY4dwRc98vLc5C8jom6KoU5ERKQQDHUiIiKFYJ86gF9+CcbJk97Q60V5FVGnKi/XYvv2YHlxA6NGFaF37yp5MVGXJUkCEhM98fHHR+VVLsfV+tQZ6kQuLD3dHffdN1Ze3MCLL57Gtdfmy4uJqAO4Wqiz+Z2IiEghGOpEREQKwVAnIiJSCPapE7kwSQLMZsFxnppqQFqaB6666ryjTK2WoFY7TomoA7FPnYiaTRAAnU5yHFqtBI2m7lynY6ATUR2GOhERkUIw1ImIiBSCoU5ERKQQDHUiIiKFYKgTEREpBEOdiIhIIRjqRERECsFQJyIiUgiGOhERkUJwmViiDrJ582YcOHA/DAYfeVWzVVZqUFWlRmBgjbyq2aqr1QgLq8K8eenyKiJqIVdbJpahTtRBzGYzli/vj5tvzkNAQOtDuS0qKzVYvz4M8+adg17f4f/1iRSHoc5Qp26sqEiLTZtCcN11eQgJ6dhgLynR4JtvwnDzzTkIDe3Y702kVK4W6uxTJ+pA/v5m3H9/On74IRTl5Rp5dbsxGlVYvz4MCxacY6ATKRhDnagT3H13Jtav74XcXL28yulKSjT48svemD49R15FRArDUCfqBL6+ZvzlL2nYtCkE58/r5NVOU1amwXff9cJ996WhZ08+oRMpHUOdqBPdfnsmfvmlJ/LznR/s5eVqbNgQihtvzOWgOKJugqFO1Il8fS2YMycD69eHoahIK69utYoKNVav7o3Zs7M6fEAeEXUehjpRJ9NqJcydm44ffwxBZWXb/0sajSqsXRuOWbOy4OlplVcTkYK1/R2EiNrM29uCu+/OwEcf9W9TH3tZmRorV0Zg9uxMBAaa5NVEpHAMdSIXoddLeOSRs9i0KURe1Wxr1/bGHXdkwtfXIq8iom6AoU7kQgwGK+64IxPvvDOwRYPnSks1+Pjjfpg5Mwv+/mZ5NRF1Ewx1Ihfj6WnFk08m4aefmv/E/vXX4Zg7N51N7kTdHEOdyAXpdBJmzcrC++9HXrSPvbhYgxUrIjBzZja8vNjkTtTdMdSJXJSPjwUPPZSKb74Jk1c5rF8fhltvzUZwMKetERFDncilubmJuPfedCxb1qfBE3txsRarVvXGjBk57EMnIgeGOpGL8/GxYN68NHzxRQRMJgEAsHp1OG65JZtLvxJRA9x6laiLqKpSY/XqcGg0EqZPz0FAAAfFEXU2br1KRK1iMFgxZ04GA52ImsRQJ+pCPDysDHQiahJDnYiISCEY6kRERArBUCciIlIIhjoREZFCMNSJiIgUolPmqR89elReRERE1OUMHz5cXtSpOiXUiYiIyPnY/E5ERKQQDHUiIiKFYKgTEREpBEOdiIhIIRjqRERECsFQJyIiUgiGOhERkUL8fxotTYUHOgbxAAAAAElFTkSuQmCC)\n",
        "\n",
        "Pada gambar diatas, bagaimana cara kita memodelkan tegangan pada beban $R$ ($V_R$) atau tegangan pada ($V_C$) ?\n",
        "<BR>Berdasarkan hukum Ohm: $V=iR$</BR>\n",
        "<BR>Berdasarkan hukum Faraday: $V_L=L\\frac{d_i}{dt}$\n",
        "<BR>Berdasarkan hukum Kirchoff:$V_s=V_r+V_L+V_c$ </BR>\n",
        "\n",
        "Diketahui:\n",
        "$${A} = \\begin{bmatrix} {0} & \\frac{1}{C}\\\\ -\\frac{1}{C} & -\\frac{R}{L}\\end{bmatrix}$$\n",
        "$${B} = \\begin{bmatrix} {0}\\\\{\\frac{1}{L}}\\end{bmatrix}$$\n",
        "$${C} = \\begin{bmatrix} 1 & 0\\\\ 0 & 1\\end{bmatrix}$$\n",
        "$${D} = 0 $$\n",
        "Hitung:\n",
        "$$\\frac{Y(s)}{U(s)} = {C[sI−A]^{−1}}B+D $$\n",
        "\n"
      ]
    },
    {
      "cell_type": "markdown",
      "source": [
        "###Inisialisasi Symbol dengan Symbolic Python ###"
      ],
      "metadata": {
        "id": "N_Ovh9BdOC9z"
      },
      "id": "N_Ovh9BdOC9z"
    },
    {
      "cell_type": "code",
      "execution_count": null,
      "id": "8d66aa7b-e620-4d09-b7a7-9415c91d47d6",
      "metadata": {
        "id": "8d66aa7b-e620-4d09-b7a7-9415c91d47d6",
        "colab": {
          "base_uri": "https://localhost:8080/",
          "height": 102
        },
        "outputId": "4100981e-038c-4bc2-e9bf-20d8926fd03d"
      },
      "outputs": [
        {
          "output_type": "display_data",
          "data": {
            "text/plain": [
              "C"
            ],
            "text/latex": "$\\displaystyle C$"
          },
          "metadata": {}
        },
        {
          "output_type": "display_data",
          "data": {
            "text/plain": [
              "L"
            ],
            "text/latex": "$\\displaystyle L$"
          },
          "metadata": {}
        },
        {
          "output_type": "display_data",
          "data": {
            "text/plain": [
              "R"
            ],
            "text/latex": "$\\displaystyle R$"
          },
          "metadata": {}
        },
        {
          "output_type": "display_data",
          "data": {
            "text/plain": [
              "omega"
            ],
            "text/latex": "$\\displaystyle \\omega$"
          },
          "metadata": {}
        }
      ],
      "source": [
        "import sympy as sp\n",
        "C,L, R, omega = sp.symbols(r'C,L,R,omega')\n",
        "display(C,L,R,omega)"
      ]
    },
    {
      "cell_type": "markdown",
      "source": [
        "### Membuat Persamaan KCL & KVL ###"
      ],
      "metadata": {
        "id": "_trpitZ9OPik"
      },
      "id": "_trpitZ9OPik"
    },
    {
      "cell_type": "code",
      "execution_count": 54,
      "id": "396c5652-6df8-4338-a7ca-de8f58f31e22",
      "metadata": {
        "colab": {
          "base_uri": "https://localhost:8080/",
          "height": 250
        },
        "id": "396c5652-6df8-4338-a7ca-de8f58f31e22",
        "outputId": "bb344083-9465-432e-de56-cb533dbf85b4"
      },
      "outputs": [
        {
          "output_type": "stream",
          "name": "stdout",
          "text": [
            "Persamaan V_r:\n"
          ]
        },
        {
          "output_type": "display_data",
          "data": {
            "text/plain": [
              "R*i"
            ],
            "text/latex": "$\\displaystyle R i$"
          },
          "metadata": {}
        },
        {
          "output_type": "stream",
          "name": "stdout",
          "text": [
            "Persamaan V_L:\n"
          ]
        },
        {
          "output_type": "display_data",
          "data": {
            "text/plain": [
              "L*Derivative(i(t), t)"
            ],
            "text/latex": "$\\displaystyle L \\frac{d}{d t} i{\\left(t \\right)}$"
          },
          "metadata": {}
        },
        {
          "output_type": "stream",
          "name": "stdout",
          "text": [
            "Persamaan I_C:\n"
          ]
        },
        {
          "output_type": "display_data",
          "data": {
            "text/plain": [
              "C*Derivative(vc(t), t)"
            ],
            "text/latex": "$\\displaystyle C \\frac{d}{d t} \\operatorname{vc}{\\left(t \\right)}$"
          },
          "metadata": {}
        },
        {
          "output_type": "stream",
          "name": "stdout",
          "text": [
            "Persamaan V_L+V_r+V_c-V_s=0:\n"
          ]
        },
        {
          "output_type": "display_data",
          "data": {
            "text/plain": [
              "L*Derivative(i(t), t) + R*i + V_c - V_s"
            ],
            "text/latex": "$\\displaystyle L \\frac{d}{d t} i{\\left(t \\right)} + R i + V_{c} - V_{s}$"
          },
          "metadata": {}
        },
        {
          "output_type": "display_data",
          "data": {
            "text/plain": [
              "(-R*i - V_c + V_s)/L"
            ],
            "text/latex": "$\\displaystyle \\frac{- R i - V_{c} + V_{s}}{L}$"
          },
          "metadata": {}
        }
      ],
      "source": [
        "i, vs, t, vc, ic = sp.symbols('i,V_s, t,V_c,i_c')\n",
        "id = (sp.Function('i')(t).diff(t))\n",
        "iv = (sp.Function('vc')(t).diff(t))\n",
        "vr = i*R\n",
        "print(\"Persamaan V_r:\")\n",
        "display(vr)\n",
        "vl = L*id\n",
        "print(\"Persamaan V_L:\")\n",
        "display(vl)\n",
        "print(\"Persamaan I_C:\")\n",
        "ic=C*iv\n",
        "display(ic)\n",
        "EQ = -vs+vr+vl+vc\n",
        "print(\"Persamaan V_L+V_r+V_c-V_s=0:\")\n",
        "display(EQ)\n",
        "display(sp.solve(EQ,id)[0])"
      ]
    },
    {
      "cell_type": "markdown",
      "source": [
        "### Inisialisasi State Space Variables ###"
      ],
      "metadata": {
        "id": "T1a54s0xQANS"
      },
      "id": "T1a54s0xQANS"
    },
    {
      "cell_type": "code",
      "source": [
        "x1 = vc\n",
        "x2 = i\n",
        "display('x1:',x1,'x2:',x2)"
      ],
      "metadata": {
        "colab": {
          "base_uri": "https://localhost:8080/",
          "height": 98
        },
        "id": "bEYTjzoK598x",
        "outputId": "dba3b8b7-32d2-4608-ed06-948819b27a78"
      },
      "id": "bEYTjzoK598x",
      "execution_count": 55,
      "outputs": [
        {
          "output_type": "display_data",
          "data": {
            "text/plain": [
              "'x1:'"
            ],
            "application/vnd.google.colaboratory.intrinsic+json": {
              "type": "string"
            }
          },
          "metadata": {}
        },
        {
          "output_type": "display_data",
          "data": {
            "text/plain": [
              "V_c"
            ],
            "text/latex": "$\\displaystyle V_{c}$"
          },
          "metadata": {}
        },
        {
          "output_type": "display_data",
          "data": {
            "text/plain": [
              "'x2:'"
            ],
            "application/vnd.google.colaboratory.intrinsic+json": {
              "type": "string"
            }
          },
          "metadata": {}
        },
        {
          "output_type": "display_data",
          "data": {
            "text/plain": [
              "i"
            ],
            "text/latex": "$\\displaystyle i$"
          },
          "metadata": {}
        }
      ]
    },
    {
      "cell_type": "markdown",
      "source": [
        "sehingga,\n",
        "$$\\begin{bmatrix} {\\dot{x_1}}\\\\{\\dot{x_2}}\\end{bmatrix} = \\begin{bmatrix} {x_1}\\\\{x_2}\\end{bmatrix}$$\n",
        "\n",
        "$$\\begin{bmatrix} {\\dot{V_c}}\\\\{\\dot{i}}\\end{bmatrix} = {A}\\begin{bmatrix} {V_c}\\\\{i}\\end{bmatrix}+Bu$$\n",
        "\n",
        "Dikarenakan kita menginginkan untuk mendapatkan fungsi alih pada $R$ dan $V_c$ maka:\n",
        "\n",
        "$$y = {C}\\begin{bmatrix} {V_c}\\\\{i}\\end{bmatrix}+Du$$\n",
        "\n",
        "sehingga:\n",
        "\n",
        "$$y = \\begin{bmatrix} {1}&{1}\\end{bmatrix} \\begin{bmatrix} {V_c}\\\\{i}\\end{bmatrix}+Du$$\n"
      ],
      "metadata": {
        "id": "tWwaTZfbQgex"
      },
      "id": "tWwaTZfbQgex"
    },
    {
      "cell_type": "code",
      "execution_count": 56,
      "id": "6be2c39e-5511-4b4b-9fa2-9a74665985f2",
      "metadata": {
        "colab": {
          "base_uri": "https://localhost:8080/",
          "height": 232
        },
        "id": "6be2c39e-5511-4b4b-9fa2-9a74665985f2",
        "outputId": "2bf45f2e-5d6f-4154-c55c-afc7cd443055"
      },
      "outputs": [
        {
          "output_type": "display_data",
          "data": {
            "text/plain": [
              "'Matrix A:'"
            ],
            "application/vnd.google.colaboratory.intrinsic+json": {
              "type": "string"
            }
          },
          "metadata": {}
        },
        {
          "output_type": "display_data",
          "data": {
            "text/plain": [
              "Matrix([\n",
              "[   0,  1/C],\n",
              "[-1/L, -R/L]])"
            ],
            "text/latex": "$\\displaystyle \\left[\\begin{matrix}0 & \\frac{1}{C}\\\\- \\frac{1}{L} & - \\frac{R}{L}\\end{matrix}\\right]$"
          },
          "metadata": {}
        },
        {
          "output_type": "stream",
          "name": "stdout",
          "text": [
            "\n",
            "\n"
          ]
        },
        {
          "output_type": "display_data",
          "data": {
            "text/plain": [
              "'Matrix B:'"
            ],
            "application/vnd.google.colaboratory.intrinsic+json": {
              "type": "string"
            }
          },
          "metadata": {}
        },
        {
          "output_type": "display_data",
          "data": {
            "text/plain": [
              "Matrix([\n",
              "[  0],\n",
              "[1/L]])"
            ],
            "text/latex": "$\\displaystyle \\left[\\begin{matrix}0\\\\\\frac{1}{L}\\end{matrix}\\right]$"
          },
          "metadata": {}
        },
        {
          "output_type": "display_data",
          "data": {
            "text/plain": [
              "'Matrix C:'"
            ],
            "application/vnd.google.colaboratory.intrinsic+json": {
              "type": "string"
            }
          },
          "metadata": {}
        },
        {
          "output_type": "display_data",
          "data": {
            "text/plain": [
              "Matrix([\n",
              "[1, 0],\n",
              "[0, 1]])"
            ],
            "text/latex": "$\\displaystyle \\left[\\begin{matrix}1 & 0\\\\0 & 1\\end{matrix}\\right]$"
          },
          "metadata": {}
        }
      ],
      "source": [
        "A_Row_1 = (0,1/C)\n",
        "A_Row_2 = (-1/L,-R/L)\n",
        "A  = sp.Matrix([A_Row_1,A_Row_2])\n",
        "display('Matrix A:',A)\n",
        "print(\"\\n\")\n",
        "B_Row_1 = (0)\n",
        "B_Row_2 = (1/L)\n",
        "B = sp.Matrix([B_Row_1,B_Row_2])\n",
        "display('Matrix B:',B)\n",
        "C_Row_1 = (1,0)\n",
        "C_Row_2 = (0,1)\n",
        "C_matrix = sp.Matrix([C_Row_1,C_Row_2])\n",
        "display('Matrix C:',C_matrix)"
      ]
    },
    {
      "cell_type": "markdown",
      "id": "ec84415d-63a9-4a07-9417-1746d0af9b55",
      "metadata": {
        "id": "ec84415d-63a9-4a07-9417-1746d0af9b55"
      },
      "source": [
        "Masukkan ke Rumus:\n",
        "\n",
        "$$\\frac{Y(s)}{U(s)} = {C[sI−A]^{−1}}B+D $$"
      ]
    },
    {
      "cell_type": "code",
      "execution_count": 57,
      "id": "2ace4420-8b91-4b50-8c91-0df8e1233a39",
      "metadata": {
        "colab": {
          "base_uri": "https://localhost:8080/",
          "height": 78
        },
        "id": "2ace4420-8b91-4b50-8c91-0df8e1233a39",
        "outputId": "70ead206-cbe6-4961-dc17-b46f8f4c88e7"
      },
      "outputs": [
        {
          "output_type": "display_data",
          "data": {
            "text/plain": [
              "'Transfer Function  didapatkan:'"
            ],
            "application/vnd.google.colaboratory.intrinsic+json": {
              "type": "string"
            }
          },
          "metadata": {}
        },
        {
          "output_type": "display_data",
          "data": {
            "text/plain": [
              "Matrix([\n",
              "[  1/(C*L*s**2 + C*R*s + 1)],\n",
              "[C*s/(C*L*s**2 + C*R*s + 1)]])"
            ],
            "text/latex": "$\\displaystyle \\left[\\begin{matrix}\\frac{1}{C L s^{2} + C R s + 1}\\\\\\frac{C s}{C L s^{2} + C R s + 1}\\end{matrix}\\right]$"
          },
          "metadata": {}
        }
      ],
      "source": [
        "s = sp.Symbol('s')\n",
        "I = sp.eye(A.shape[0])\n",
        "#display(I)\n",
        "inv_M=(I*s - A).inv()\n",
        "#display(inv_M)\n",
        "TFL = C_matrix*inv_M*B\n",
        "display(\"Transfer Function  didapatkan:\",TFL)"
      ]
    },
    {
      "cell_type": "code",
      "execution_count": 58,
      "id": "913ae10b-2f9a-407c-83a3-273e0c6dd50a",
      "metadata": {
        "id": "913ae10b-2f9a-407c-83a3-273e0c6dd50a",
        "outputId": "877700a8-8358-4642-849f-02980a145119",
        "colab": {
          "base_uri": "https://localhost:8080/",
          "height": 88
        }
      },
      "outputs": [
        {
          "output_type": "display_data",
          "data": {
            "text/plain": [
              "1/(C*L*s**2 + C*R*s + 1)"
            ],
            "text/latex": "$\\displaystyle \\frac{1}{C L s^{2} + C R s + 1}$"
          },
          "metadata": {}
        },
        {
          "output_type": "display_data",
          "data": {
            "text/plain": [
              "C*s/(C*L*s**2 + C*R*s + 1)"
            ],
            "text/latex": "$\\displaystyle \\frac{C s}{C L s^{2} + C R s + 1}$"
          },
          "metadata": {}
        }
      ],
      "source": [
        "display(TFL[0])\n",
        "display(TFL[1])"
      ]
    },
    {
      "cell_type": "code",
      "source": [
        "TF_VC = TFL[0].subs(s,sp.I*omega)\n",
        "display(TF_VC)\n",
        "TF_VR = TFL[1].subs(s,sp.I*omega)\n",
        "display(TF_VR)"
      ],
      "metadata": {
        "id": "0bcjih_69Hmm",
        "outputId": "6a0aeda1-63b2-4e97-c439-ac7a44812d2a",
        "colab": {
          "base_uri": "https://localhost:8080/",
          "height": 88
        }
      },
      "id": "0bcjih_69Hmm",
      "execution_count": 59,
      "outputs": [
        {
          "output_type": "display_data",
          "data": {
            "text/plain": [
              "1/(-C*L*omega**2 + I*C*R*omega + 1)"
            ],
            "text/latex": "$\\displaystyle \\frac{1}{- C L \\omega^{2} + i C R \\omega + 1}$"
          },
          "metadata": {}
        },
        {
          "output_type": "display_data",
          "data": {
            "text/plain": [
              "I*C*omega/(-C*L*omega**2 + I*C*R*omega + 1)"
            ],
            "text/latex": "$\\displaystyle \\frac{i C \\omega}{- C L \\omega^{2} + i C R \\omega + 1}$"
          },
          "metadata": {}
        }
      ]
    },
    {
      "cell_type": "code",
      "source": [
        "TF_VC_abs = sp.Abs(TF_VC)\n",
        "display(TF_VC_abs)\n",
        "TF_VR_abs = sp.Abs(TF_VR)\n",
        "display(TF_VR_abs)"
      ],
      "metadata": {
        "id": "OojMiwwhBVh9",
        "outputId": "dee4c4ce-9fcf-4928-9299-8194ccca5935",
        "colab": {
          "base_uri": "https://localhost:8080/",
          "height": 96
        }
      },
      "id": "OojMiwwhBVh9",
      "execution_count": 60,
      "outputs": [
        {
          "output_type": "display_data",
          "data": {
            "text/plain": [
              "1/Abs(-C*L*omega**2 + I*C*R*omega + 1)"
            ],
            "text/latex": "$\\displaystyle \\frac{1}{\\left|{- C L \\omega^{2} + i C R \\omega + 1}\\right|}$"
          },
          "metadata": {}
        },
        {
          "output_type": "display_data",
          "data": {
            "text/plain": [
              "Abs(C*omega/(-C*L*omega**2 + I*C*R*omega + 1))"
            ],
            "text/latex": "$\\displaystyle \\left|{\\frac{C \\omega}{- C L \\omega^{2} + i C R \\omega + 1}}\\right|$"
          },
          "metadata": {}
        }
      ]
    },
    {
      "cell_type": "code",
      "source": [
        "TF_VC_func = sp.lambdify([C,L, R, omega],TF_VC_abs)"
      ],
      "metadata": {
        "id": "FewG7uWwCsQm"
      },
      "id": "FewG7uWwCsQm",
      "execution_count": 61,
      "outputs": []
    },
    {
      "cell_type": "code",
      "source": [
        "print(TF_VC_func(1e-6,10e-6,10,2*3.14*50))"
      ],
      "metadata": {
        "id": "I0sVE3b4C9CV",
        "outputId": "2d3b141b-de64-4173-e83c-9b7325570f89",
        "colab": {
          "base_uri": "https://localhost:8080/"
        }
      },
      "id": "I0sVE3b4C9CV",
      "execution_count": 62,
      "outputs": [
        {
          "output_type": "stream",
          "name": "stdout",
          "text": [
            "0.9999960561828447\n"
          ]
        }
      ]
    },
    {
      "cell_type": "code",
      "source": [
        "import numpy as np\n",
        "import matplotlib.pyplot as plt\n",
        "\n",
        "x_value = np.linspace(1,100e3,100)\n",
        "y_value = []\n",
        "for i in x_value:\n",
        "    y_value.append(TF_VC_func(1e-6,10e-6,10,2*3.14*i))\n",
        "#print(y_value)\n",
        "plt.plot(x_value,y_value)\n",
        "plt.xlabel(\"Frequency (Hz)\")\n",
        "plt.ylabel(\"$V_c$ Volt\")\n",
        "plt.show()"
      ],
      "metadata": {
        "id": "0ssiviT8D8sE",
        "outputId": "f6c30e08-5893-4b01-9b9e-99797c22e602",
        "colab": {
          "base_uri": "https://localhost:8080/",
          "height": 449
        }
      },
      "id": "0ssiviT8D8sE",
      "execution_count": 65,
      "outputs": [
        {
          "output_type": "display_data",
          "data": {
            "text/plain": [
              "<Figure size 640x480 with 1 Axes>"
            ],
            "image/png": "[encoded data removed]"
          },
          "metadata": {}
        }
      ]
    },
    {
      "cell_type": "code",
      "source": [
        "display(TF_VC_abs)\n",
        "TF_VC_time = TF_VC_abs*sp.sin(omega*t)\n",
        "display(TF_VC_time)"
      ],
      "metadata": {
        "id": "GHsQq3V6GoBA",
        "outputId": "f0015f5a-8062-4bc2-aa51-857295d56ceb",
        "colab": {
          "base_uri": "https://localhost:8080/",
          "height": 55
        }
      },
      "id": "GHsQq3V6GoBA",
      "execution_count": 64,
      "outputs": [
        {
          "output_type": "display_data",
          "data": {
            "text/plain": [
              "1/Abs(-C*L*omega**2 + I*C*R*omega + 1)"
            ],
            "text/latex": "$\\displaystyle \\frac{1}{\\left|{- C L \\omega^{2} + i C R \\omega + 1}\\right|}$"
          },
          "metadata": {}
        }
      ]
    },
    {
      "cell_type": "code",
      "source": [
        "import scipy.integrate as integrate\n",
        "import scipy.special as special\n",
        "result = integrate.quad(lambda x: special.jv(2.5,x), 0, 4.5)"
      ],
      "metadata": {
        "id": "xmJo7hxaEd4H"
      },
      "id": "xmJo7hxaEd4H",
      "execution_count": null,
      "outputs": []
    }
  ],
  "metadata": {
    "kernelspec": {
      "display_name": "Python 3 (ipykernel)",
      "language": "python",
      "name": "python3"
    },
    "language_info": {
      "codemirror_mode": {
        "name": "ipython",
        "version": 3
      },
      "file_extension": ".py",
      "mimetype": "text/x-python",
      "name": "python",
      "nbconvert_exporter": "python",
      "pygments_lexer": "ipython3",
      "version": "3.11.4"
    },
    "colab": {
      "provenance": [],
      "name": "SISTEM-OTOMASI-MODUL-RLC.ipynb",
      "include_colab_link": true
    }
  },
  "nbformat": 4,
  "nbformat_minor": 5
}