{
  "nbformat": 4,
  "nbformat_minor": 0,
  "metadata": {
    "colab": {
      "provenance": [],
      "authorship_tag": "ABX9TyMVCKO+NCkTClSsLpyFTkPh",
      "include_colab_link": true
    },
    "kernelspec": {
      "name": "python3",
      "display_name": "Python 3"
    },
    "language_info": {
      "name": "python"
    }
  },
  "cells": [
    {
      "cell_type": "markdown",
      "metadata": {
        "id": "view-in-github",
        "colab_type": "text"
      },
      "source": [
        "<a href=\"https://colab.research.google.com/github/hydekage/Sistem-Automasi/blob/master/SISTEM_OTOMASI_MODUL_STABILITY.ipynb\" target=\"_parent\"><img src=\"https://colab.research.google.com/assets/colab-badge.svg\" alt=\"Open In Colab\"/></a>"
      ]
    },
    {
      "cell_type": "markdown",
      "source": [
        "# Modul Kestabilan"
      ],
      "metadata": {
        "id": "3IIjTSGI43az"
      }
    },
    {
      "cell_type": "markdown",
      "source": [
        "## Pencarian akar / pole\n",
        "Pole adalah nilai $s$ yang membuat penyebut dari fungsi alih $G(𝑠)$ menjadi nol.\n",
        "$$G(s)=\\frac{Y(s)}{U(s)}  ⇒ akar-akar \\ dari \\ U(s)=0 $$\n",
        "\n",
        "Contoh:\n",
        "\n",
        "$$G(s)=\\frac{1}{s^3+4s^2+6s-2}$$"
      ],
      "metadata": {
        "id": "Wjl7p0tq47hj"
      }
    },
    {
      "cell_type": "code",
      "execution_count": 7,
      "metadata": {
        "colab": {
          "base_uri": "https://localhost:8080/",
          "height": 56
        },
        "id": "Jyc3ZEf14c2g",
        "outputId": "98ce8a1e-3ba5-4472-f051-4169e490ffda"
      },
      "outputs": [
        {
          "output_type": "display_data",
          "data": {
            "text/plain": [
              "s**3 + 4*s**2 + 6*s - 2"
            ],
            "text/latex": "$\\displaystyle s^{3} + 4 s^{2} + 6 s - 2$"
          },
          "metadata": {}
        },
        {
          "output_type": "stream",
          "name": "stdout",
          "text": [
            "hasil dari numeric poles: [-2.13908153639907 - 1.61689738910596*I, -2.13908153639907 + 1.61689738910596*I, 0.278163072798149]\n"
          ]
        }
      ],
      "source": [
        "import sympy as sp\n",
        "import matplotlib.pyplot as plt\n",
        "\n",
        "# Definisikan variabel simbolik\n",
        "s = sp.symbols('s')\n",
        "\n",
        "# Definisikan persamaan karakteristik\n",
        "# Misal: s^3 + 4s^2 + 6s - 2 = 0\n",
        "char_eq = s**3 + 4*s**2 + 6*s - 2\n",
        "display(char_eq)\n",
        "\n",
        "# Cari akar-akarnya (pole)\n",
        "poles = sp.solve(char_eq, s)\n",
        "\n",
        "# Tampilkan hasil\n",
        "numeric_poles = [sp.N(p) for p in poles]\n",
        "\n",
        "print(\"hasil dari numeric poles:\",numeric_poles)"
      ]
    },
    {
      "cell_type": "markdown",
      "source": [
        "## Visualisasi Pole"
      ],
      "metadata": {
        "id": "Oswp_4NT9fIA"
      }
    },
    {
      "cell_type": "code",
      "source": [
        "# Langkah 5: Ekstrak bagian real dan imajiner\n",
        "real_parts = [sp.re(p) for p in numeric_poles]\n",
        "imag_parts = [sp.im(p) for p in numeric_poles]\n",
        "\n",
        "# Langkah 6: Visualisasikan menggunakan matplotlib\n",
        "plt.figure(figsize=(6, 6))\n",
        "plt.axhline(0, color='black', linewidth=1)\n",
        "plt.axvline(0, color='black', linewidth=1)\n",
        "plt.grid(True)\n",
        "plt.plot(real_parts, imag_parts, 'rx', markersize=10, label='Pole')"
      ],
      "metadata": {
        "colab": {
          "base_uri": "https://localhost:8080/",
          "height": 539
        },
        "id": "7UreyXOj9iqn",
        "outputId": "5f77ca4d-d7e5-4421-81ad-389b6d70fcc1"
      },
      "execution_count": 8,
      "outputs": [
        {
          "output_type": "execute_result",
          "data": {
            "text/plain": [
              "[<matplotlib.lines.Line2D at 0x796c40725f90>]"
            ]
          },
          "metadata": {},
          "execution_count": 8
        },
        {
          "output_type": "display_data",
          "data": {
            "text/plain": [
              "<Figure size 600x600 with 1 Axes>"
            ],
            "image/png": "[encoded data removed]"
          },
          "metadata": {}
        }
      ]
    },
    {
      "cell_type": "markdown",
      "source": [],
      "metadata": {
        "id": "ccmZHFa640Sk"
      }
    }
  ]
}