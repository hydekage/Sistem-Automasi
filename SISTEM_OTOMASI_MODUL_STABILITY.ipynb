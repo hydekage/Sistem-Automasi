{
  "nbformat": 4,
  "nbformat_minor": 0,
  "metadata": {
    "colab": {
      "provenance": [],
      "authorship_tag": "ABX9TyNQGayUAmF/cz60vQV6PXDm",
      "include_colab_link": true
    },
    "kernelspec": {
      "name": "python3",
      "display_name": "Python 3"
    },
    "language_info": {
      "name": "python"
    }
  },
  "cells": [
    {
      "cell_type": "markdown",
      "metadata": {
        "id": "view-in-github",
        "colab_type": "text"
      },
      "source": [
        "<a href=\"https://colab.research.google.com/github/hydekage/Sistem-Automasi/blob/master/SISTEM_OTOMASI_MODUL_STABILITY.ipynb\" target=\"_parent\"><img src=\"https://colab.research.google.com/assets/colab-badge.svg\" alt=\"Open In Colab\"/></a>"
      ]
    },
    {
      "cell_type": "markdown",
      "source": [
        "# Modul Kestabilan"
      ],
      "metadata": {
        "id": "3IIjTSGI43az"
      }
    },
    {
      "cell_type": "markdown",
      "source": [
        "## Pencarian akar / pole\n",
        "Pole adalah nilai $s$ yang membuat penyebut dari fungsi alih $G(𝑠)$ menjadi nol.\n",
        "$$G(s)=\\frac{Y(s)}{U(s)}  ⇒ akar-akar \\ dari \\ U(s)=0 $$\n",
        "\n",
        "Contoh:\n",
        "\n",
        "$$G(s)=\\frac{1}{s^3+4s^2+6s-2}$$"
      ],
      "metadata": {
        "id": "Wjl7p0tq47hj"
      }
    },
    {
      "cell_type": "code",
      "execution_count": 3,
      "metadata": {
        "colab": {
          "base_uri": "https://localhost:8080/",
          "height": 108
        },
        "id": "Jyc3ZEf14c2g",
        "outputId": "3515fc77-2a57-4341-a55d-01630d702982"
      },
      "outputs": [
        {
          "output_type": "display_data",
          "data": {
            "text/plain": [
              "s**3 + 4*s**2 + 6*s - 2"
            ],
            "text/latex": "$\\displaystyle s^{3} + 4 s^{2} + 6 s - 2$"
          },
          "metadata": {}
        },
        {
          "output_type": "stream",
          "name": "stdout",
          "text": [
            "Pole dari sistem:\n",
            "s1 = -4/3 + (-1/2 - sqrt(3)*I/2)*(71/27 + sqrt(561)/9)**(1/3) - 2/(9*(-1/2 - sqrt(3)*I/2)*(71/27 + sqrt(561)/9)**(1/3))\n",
            "s2 = -4/3 - 2/(9*(-1/2 + sqrt(3)*I/2)*(71/27 + sqrt(561)/9)**(1/3)) + (-1/2 + sqrt(3)*I/2)*(71/27 + sqrt(561)/9)**(1/3)\n",
            "s3 = -4/3 - 2/(9*(71/27 + sqrt(561)/9)**(1/3)) + (71/27 + sqrt(561)/9)**(1/3)\n"
          ]
        }
      ],
      "source": [
        "import sympy as sp\n",
        "\n",
        "# Definisikan variabel simbolik\n",
        "s = sp.symbols('s')\n",
        "\n",
        "# Definisikan persamaan karakteristik\n",
        "# Misal: s^3 + 4s^2 + 6s - 2 = 0\n",
        "char_eq = s**3 + 4*s**2 + 6*s - 2\n",
        "display(char_eq)\n",
        "\n",
        "# Cari akar-akarnya (pole)\n",
        "poles = sp.solve(char_eq, s)\n",
        "\n",
        "# Tampilkan hasil\n",
        "print(\"Pole dari sistem:\")\n",
        "for i, pole in enumerate(poles, start=1):\n",
        "    print(f\"s{i} = {pole}\")"
      ]
    },
    {
      "cell_type": "markdown",
      "source": [],
      "metadata": {
        "id": "ccmZHFa640Sk"
      }
    }
  ]
}