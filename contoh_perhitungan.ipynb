{
  "cells": [
    {
      "cell_type": "markdown",
      "metadata": {
        "id": "view-in-github",
        "colab_type": "text"
      },
      "source": [
        "<a href=\"https://colab.research.google.com/github/hydekage/Sistem-Automasi/blob/master/contoh_perhitungan.ipynb\" target=\"_parent\"><img src=\"https://colab.research.google.com/assets/colab-badge.svg\" alt=\"Open In Colab\"/></a>"
      ]
    },
    {
      "cell_type": "markdown",
      "id": "59aa7e6e-b18a-4706-8f71-823038755252",
      "metadata": {
        "id": "59aa7e6e-b18a-4706-8f71-823038755252"
      },
      "source": [
        "## Contoh Perhitungan Transfer Function/Fungsi Alih MK SISTEM KENDALI ##\n",
        "\n",
        "### Pemodelan Pada Rangkaian Listrik ###\n",
        "\n",
        "Pelajari file tersebut: <B>[my link](file:///RLCTF.pdf)</B>\n",
        "\n",
        "<img src=\"https://github.com/hydekage/Sistem-Automasi/blob/master/img/circuit.jpg?raw=1\">\n",
        "Pada gambar diatas, bagaimana cara kita memodelkan teganan pada beban $R$ ($V_R$)?\n",
        "<BR>Berdasarkan hukum Ohm: $V=iR$</BR>\n",
        "<BR>Berdasarkan hukum Faraday: $V_L=L\\frac{d_i}{dt}$\n",
        "<BR>Berdasarkan hukum Kirchoff:$V_s=V_r+V_L$ </BR>\n",
        "\n",
        "Diketahui:\n",
        "$${A} = \\begin{bmatrix} {0} & \\frac{1}{C}\\\\ -\\frac{1}{C} & -\\frac{R}{L}\\end{bmatrix}$$\n",
        "$${B} = \\begin{bmatrix} {0}\\\\{\\frac{1}{L}}\\end{bmatrix}$$\n",
        "$${C} = \\begin{bmatrix} 1 & 0\\\\ 0 & 1\\end{bmatrix}$$\n",
        "$${D} = 0 $$\n",
        "Hitung:\n",
        "$$\\frac{Y(s)}{U(s)} = {C[sI−A]^{−1}}B+D $$\n",
        "\n"
      ]
    },
    {
      "cell_type": "code",
      "execution_count": 16,
      "id": "8d66aa7b-e620-4d09-b7a7-9415c91d47d6",
      "metadata": {
        "id": "8d66aa7b-e620-4d09-b7a7-9415c91d47d6"
      },
      "outputs": [],
      "source": [
        "import sympy as sp\n",
        "import numpy as np\n",
        "C,L, R,omega, f = sp.symbols(r'C,L,R,omega,f')"
      ]
    },
    {
      "cell_type": "code",
      "execution_count": 3,
      "id": "396c5652-6df8-4338-a7ca-de8f58f31e22",
      "metadata": {
        "colab": {
          "base_uri": "https://localhost:8080/",
          "height": 163
        },
        "id": "396c5652-6df8-4338-a7ca-de8f58f31e22",
        "outputId": "58e51a2a-7df1-4a42-d6fc-2b559fc017e3"
      },
      "outputs": [
        {
          "output_type": "stream",
          "name": "stdout",
          "text": [
            "Persamaan V_r:\n"
          ]
        },
        {
          "output_type": "display_data",
          "data": {
            "text/plain": [
              "R*i"
            ],
            "text/latex": "$\\displaystyle R i$"
          },
          "metadata": {}
        },
        {
          "output_type": "stream",
          "name": "stdout",
          "text": [
            "Persamaan V_L:\n"
          ]
        },
        {
          "output_type": "display_data",
          "data": {
            "text/plain": [
              "L*Derivative(i(t), t)"
            ],
            "text/latex": "$\\displaystyle L \\frac{d}{d t} i{\\left(t \\right)}$"
          },
          "metadata": {}
        },
        {
          "output_type": "stream",
          "name": "stdout",
          "text": [
            "Persamaan V_L+V_r-Vs=0:\n"
          ]
        },
        {
          "output_type": "display_data",
          "data": {
            "text/plain": [
              "L*Derivative(i(t), t) + R*i - V_s"
            ],
            "text/latex": "$\\displaystyle L \\frac{d}{d t} i{\\left(t \\right)} + R i - V_{s}$"
          },
          "metadata": {}
        }
      ],
      "source": [
        "i, vs, t = sp.symbols('i,V_s, t')\n",
        "id = (sp.Function('i')(t).diff(t))\n",
        "vr = i*R\n",
        "print(\"Persamaan V_r:\")\n",
        "display(vr)\n",
        "vl = L*id\n",
        "print(\"Persamaan V_L:\")\n",
        "display(vl)\n",
        "EQ = -vs+vr+vl\n",
        "print(\"Persamaan V_L+V_r-Vs=0:\")\n",
        "display(EQ)"
      ]
    },
    {
      "cell_type": "code",
      "source": [
        "eqsolve = sp.solve(EQ,id)\n",
        "print(eqsolve)\n",
        "display(eqsolve[0])\n",
        "display(1/C)"
      ],
      "metadata": {
        "colab": {
          "base_uri": "https://localhost:8080/",
          "height": 104
        },
        "id": "bEYTjzoK598x",
        "outputId": "b367c33e-54d7-4b46-de37-e7b21600efdf"
      },
      "id": "bEYTjzoK598x",
      "execution_count": 4,
      "outputs": [
        {
          "output_type": "stream",
          "name": "stdout",
          "text": [
            "[(-R*i + V_s)/L]\n"
          ]
        },
        {
          "output_type": "display_data",
          "data": {
            "text/plain": [
              "(-R*i + V_s)/L"
            ],
            "text/latex": "$\\displaystyle \\frac{- R i + V_{s}}{L}$"
          },
          "metadata": {}
        },
        {
          "output_type": "display_data",
          "data": {
            "text/plain": [
              "1/C"
            ],
            "text/latex": "$\\displaystyle \\frac{1}{C}$"
          },
          "metadata": {}
        }
      ]
    },
    {
      "cell_type": "code",
      "execution_count": 5,
      "id": "6be2c39e-5511-4b4b-9fa2-9a74665985f2",
      "metadata": {
        "colab": {
          "base_uri": "https://localhost:8080/",
          "height": 232
        },
        "id": "6be2c39e-5511-4b4b-9fa2-9a74665985f2",
        "outputId": "a931ae8c-a6ce-4db6-a9e8-4422c5dd8714"
      },
      "outputs": [
        {
          "output_type": "display_data",
          "data": {
            "text/plain": [
              "'Matrix A:'"
            ],
            "application/vnd.google.colaboratory.intrinsic+json": {
              "type": "string"
            }
          },
          "metadata": {}
        },
        {
          "output_type": "display_data",
          "data": {
            "text/plain": [
              "Matrix([\n",
              "[   0,  1/C],\n",
              "[-1/C, -R/L]])"
            ],
            "text/latex": "$\\displaystyle \\left[\\begin{matrix}0 & \\frac{1}{C}\\\\- \\frac{1}{C} & - \\frac{R}{L}\\end{matrix}\\right]$"
          },
          "metadata": {}
        },
        {
          "output_type": "stream",
          "name": "stdout",
          "text": [
            "\n",
            "\n"
          ]
        },
        {
          "output_type": "display_data",
          "data": {
            "text/plain": [
              "'Matrix B:'"
            ],
            "application/vnd.google.colaboratory.intrinsic+json": {
              "type": "string"
            }
          },
          "metadata": {}
        },
        {
          "output_type": "display_data",
          "data": {
            "text/plain": [
              "Matrix([\n",
              "[  0],\n",
              "[1/L]])"
            ],
            "text/latex": "$\\displaystyle \\left[\\begin{matrix}0\\\\\\frac{1}{L}\\end{matrix}\\right]$"
          },
          "metadata": {}
        },
        {
          "output_type": "display_data",
          "data": {
            "text/plain": [
              "'Matrix C:'"
            ],
            "application/vnd.google.colaboratory.intrinsic+json": {
              "type": "string"
            }
          },
          "metadata": {}
        },
        {
          "output_type": "display_data",
          "data": {
            "text/plain": [
              "Matrix([\n",
              "[1, 0],\n",
              "[0, 1]])"
            ],
            "text/latex": "$\\displaystyle \\left[\\begin{matrix}1 & 0\\\\0 & 1\\end{matrix}\\right]$"
          },
          "metadata": {}
        }
      ],
      "source": [
        "A_Row_1 = (0,1/C)\n",
        "A_Row_2 = (-1/C,-R/L)\n",
        "A  = sp.Matrix([A_Row_1,A_Row_2])\n",
        "display('Matrix A:',A)\n",
        "print(\"\\n\")\n",
        "B_Row_1 = (0)\n",
        "B_Row_2 = (1/L)\n",
        "B = sp.Matrix([B_Row_1,B_Row_2])\n",
        "display('Matrix B:',B)\n",
        "C_Row_1 = (1,0)\n",
        "C_Row_2 = (0,1)\n",
        "C_matrix = sp.Matrix([C_Row_1,C_Row_2])\n",
        "display('Matrix C:',C_matrix)"
      ]
    },
    {
      "cell_type": "markdown",
      "id": "ec84415d-63a9-4a07-9417-1746d0af9b55",
      "metadata": {
        "id": "ec84415d-63a9-4a07-9417-1746d0af9b55"
      },
      "source": [
        "Masukkan ke Rumus:\n",
        "\n",
        "$$\\frac{Y(s)}{U(s)} = {C[sI−A]^{−1}}B+D $$"
      ]
    },
    {
      "cell_type": "code",
      "execution_count": 6,
      "id": "2ace4420-8b91-4b50-8c91-0df8e1233a39",
      "metadata": {
        "colab": {
          "base_uri": "https://localhost:8080/",
          "height": 178
        },
        "id": "2ace4420-8b91-4b50-8c91-0df8e1233a39",
        "outputId": "b6cb74a3-142e-4302-8ce9-a2a1b9acd2e4"
      },
      "outputs": [
        {
          "output_type": "display_data",
          "data": {
            "text/plain": [
              "Matrix([\n",
              "[1, 0],\n",
              "[0, 1]])"
            ],
            "text/latex": "$\\displaystyle \\left[\\begin{matrix}1 & 0\\\\0 & 1\\end{matrix}\\right]$"
          },
          "metadata": {}
        },
        {
          "output_type": "display_data",
          "data": {
            "text/plain": [
              "Matrix([\n",
              "[(C**2*L*s + C**2*R)/(C**2*L*s**2 + C**2*R*s + L),      C*L/(C**2*L*s**2 + C**2*R*s + L)],\n",
              "[               -C*L/(C**2*L*s**2 + C**2*R*s + L), C**2*L*s/(C**2*L*s**2 + C**2*R*s + L)]])"
            ],
            "text/latex": "$\\displaystyle \\left[\\begin{matrix}\\frac{C^{2} L s + C^{2} R}{C^{2} L s^{2} + C^{2} R s + L} & \\frac{C L}{C^{2} L s^{2} + C^{2} R s + L}\\\\- \\frac{C L}{C^{2} L s^{2} + C^{2} R s + L} & \\frac{C^{2} L s}{C^{2} L s^{2} + C^{2} R s + L}\\end{matrix}\\right]$"
          },
          "metadata": {}
        },
        {
          "output_type": "display_data",
          "data": {
            "text/plain": [
              "'Transfer Function  didapatkan:'"
            ],
            "application/vnd.google.colaboratory.intrinsic+json": {
              "type": "string"
            }
          },
          "metadata": {}
        },
        {
          "output_type": "display_data",
          "data": {
            "text/plain": [
              "Matrix([\n",
              "[     C/(C**2*L*s**2 + C**2*R*s + L)],\n",
              "[C**2*s/(C**2*L*s**2 + C**2*R*s + L)]])"
            ],
            "text/latex": "$\\displaystyle \\left[\\begin{matrix}\\frac{C}{C^{2} L s^{2} + C^{2} R s + L}\\\\\\frac{C^{2} s}{C^{2} L s^{2} + C^{2} R s + L}\\end{matrix}\\right]$"
          },
          "metadata": {}
        }
      ],
      "source": [
        "s = sp.Symbol('s')\n",
        "I = sp.eye(A.shape[0])\n",
        "display(I)\n",
        "inv_M=(I*s - A).inv()\n",
        "display(inv_M)\n",
        "TFL = C_matrix*inv_M*B\n",
        "display(\"Transfer Function  didapatkan:\",TFL)"
      ]
    },
    {
      "cell_type": "code",
      "execution_count": 36,
      "id": "913ae10b-2f9a-407c-83a3-273e0c6dd50a",
      "metadata": {
        "id": "913ae10b-2f9a-407c-83a3-273e0c6dd50a",
        "colab": {
          "base_uri": "https://localhost:8080/",
          "height": 55
        },
        "outputId": "70713c0c-2a62-4e35-9584-0ff443088659"
      },
      "outputs": [
        {
          "output_type": "display_data",
          "data": {
            "text/plain": [
              "C**2*s/(C**2*L*s**2 + C**2*R*s + L)"
            ],
            "text/latex": "$\\displaystyle \\frac{C^{2} s}{C^{2} L s^{2} + C^{2} R s + L}$"
          },
          "metadata": {}
        }
      ],
      "source": [
        "display(TFL[1])"
      ]
    },
    {
      "cell_type": "code",
      "source": [
        "VCJW = TFL[1].subs(s,sp.I*2*3.14*f)\n",
        "display(VCJW)\n",
        "VCJWabs = sp.Abs(VCJW)\n",
        "display(VCJWabs)"
      ],
      "metadata": {
        "id": "MwsNeF-FAk3Y",
        "outputId": "47eebef3-93de-4824-b3b3-6b9b54fed772",
        "colab": {
          "base_uri": "https://localhost:8080/",
          "height": 98
        }
      },
      "id": "MwsNeF-FAk3Y",
      "execution_count": 40,
      "outputs": [
        {
          "output_type": "display_data",
          "data": {
            "text/plain": [
              "6.28*I*C**2*f/(-39.4384*C**2*L*f**2 + 6.28*I*C**2*R*f + L)"
            ],
            "text/latex": "$\\displaystyle \\frac{6.28 i C^{2} f}{- 39.4384 C^{2} L f^{2} + 6.28 i C^{2} R f + L}$"
          },
          "metadata": {}
        },
        {
          "output_type": "display_data",
          "data": {
            "text/plain": [
              "6.28*Abs(C**2*f/(-39.4384*C**2*L*f**2 + 6.28*I*C**2*R*f + L))"
            ],
            "text/latex": "$\\displaystyle 6.28 \\left|{\\frac{C^{2} f}{- 39.4384 C^{2} L f^{2} + 6.28 i C^{2} R f + L}}\\right|$"
          },
          "metadata": {}
        }
      ]
    },
    {
      "cell_type": "code",
      "source": [
        "#rubah ke bentuk fungsi numerik\n",
        "VCJW_funct = sp.lambdify([f,C,L,R],VCJWabs)"
      ],
      "metadata": {
        "id": "9DaTQNNrBOEi"
      },
      "id": "9DaTQNNrBOEi",
      "execution_count": 41,
      "outputs": []
    },
    {
      "cell_type": "code",
      "source": [
        "import matplotlib.pyplot as plt\n",
        "f_val = np.linspace(0,500000,1000)\n",
        "VCval = []\n",
        "for fv in f_val:\n",
        "  VCval.append((VCJW_funct(fv,1e-9,220e-6,20)))\n",
        "plt.plot(f_val,VCval)"
      ],
      "metadata": {
        "id": "E7VwHA7PBhTH",
        "outputId": "18fc5636-083a-4e53-d513-eedbefa2e4b3",
        "colab": {
          "base_uri": "https://localhost:8080/",
          "height": 463
        }
      },
      "id": "E7VwHA7PBhTH",
      "execution_count": 42,
      "outputs": [
        {
          "output_type": "execute_result",
          "data": {
            "text/plain": [
              "[<matplotlib.lines.Line2D at 0x78c5fb060f50>]"
            ]
          },
          "metadata": {},
          "execution_count": 42
        },
        {
          "output_type": "display_data",
          "data": {
            "text/plain": [
              "<Figure size 640x480 with 1 Axes>"
            ],
            "image/png": "[encoded data removed]"
          },
          "metadata": {}
        }
      ]
    },
    {
      "cell_type": "code",
      "source": [],
      "metadata": {
        "id": "tDKwN6S8CJMu"
      },
      "id": "tDKwN6S8CJMu",
      "execution_count": null,
      "outputs": []
    }
  ],
  "metadata": {
    "kernelspec": {
      "display_name": "Python 3 (ipykernel)",
      "language": "python",
      "name": "python3"
    },
    "language_info": {
      "codemirror_mode": {
        "name": "ipython",
        "version": 3
      },
      "file_extension": ".py",
      "mimetype": "text/x-python",
      "name": "python",
      "nbconvert_exporter": "python",
      "pygments_lexer": "ipython3",
      "version": "3.11.4"
    },
    "colab": {
      "provenance": [],
      "include_colab_link": true
    }
  },
  "nbformat": 4,
  "nbformat_minor": 5
}